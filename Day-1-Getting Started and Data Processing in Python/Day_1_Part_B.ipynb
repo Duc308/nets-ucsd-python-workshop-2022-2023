{
  "cells": [
    {
      "cell_type": "markdown",
      "source": [
        "*Examples taken from Kseniya Usovich and Karla Palos from UC Berkeley Intro to Python*"
      ],
      "metadata": {
        "id": "cicYvbGUeWci"
      },
      "id": "cicYvbGUeWci"
    },
    {
      "cell_type": "markdown",
      "id": "9b175ba0-4c58-46a9-8e94-a4a99ef46fa7",
      "metadata": {
        "id": "9b175ba0-4c58-46a9-8e94-a4a99ef46fa7"
      },
      "source": [
        "# Data Types and Structures\n"
      ]
    },
    {
      "cell_type": "code",
      "source": [],
      "metadata": {
        "id": "CBSF7I_qeWAb"
      },
      "id": "CBSF7I_qeWAb",
      "execution_count": null,
      "outputs": []
    },
    {
      "cell_type": "markdown",
      "id": "8a664885-f215-47d2-979a-c7534373a4c9",
      "metadata": {
        "id": "8a664885-f215-47d2-979a-c7534373a4c9"
      },
      "source": [
        "In general for progamming, defining a variable means creating a container that allows us to save **one type of information** we plan to use later. "
      ]
    },
    {
      "cell_type": "code",
      "source": [
        "# \n",
        "variable = \"Hello World\"\n",
        "print(variable)"
      ],
      "metadata": {
        "colab": {
          "base_uri": "https://localhost:8080/"
        },
        "id": "SU_BtvkF1cI_",
        "outputId": "dea75292-15e5-4263-ded0-569fd6861348"
      },
      "id": "SU_BtvkF1cI_",
      "execution_count": null,
      "outputs": [
        {
          "output_type": "stream",
          "name": "stdout",
          "text": [
            "Hello World\n"
          ]
        }
      ]
    },
    {
      "cell_type": "markdown",
      "source": [
        "In Python, there are several types of data that you can work with, including:\n",
        "\n",
        "1. **Numbers**: Integers, Floats, and Complex numbers.\n",
        "\n",
        "2. **Strings**: Sequences of characters enclosed in single or double quotes.\n",
        "\n",
        "3. **Boolean**: Logical values that can either be True or False.\n",
        "\n",
        "4. **Lists**: Ordered collections of items, which can be of any data type.\n",
        "\n",
        "5. **Arrays**: Ordered collections of items of one data type. \n",
        "\n",
        "5. **Tuples**: Immutable ordered collections of items, which can be of any data type.\n",
        "\n",
        "6. **Sets**: Unordered collections of unique items, which can be of any data type.\n",
        "\n",
        "7. **Dictionaries**: Unordered collections of key-value pairs, where each key must be unique.\n",
        "\n",
        "8. **Bytes and ByteArrays**: Sequences of bytes, used to represent binary data.\n",
        "\n",
        "9. **None**: A special data type representing the absence of a value.\n",
        "\n",
        "10. **Range**: A sequence of numbers that can be used in loops.\n",
        "\n",
        "11. **FrozenSets**: Immutable sets that contain unique values.\n",
        "\n",
        "12. **Complex**: A complex number with a real and imaginary part.\n",
        "\n",
        "13. **Datetime**: A module that provides classes for working with dates and times.\n",
        "\n",
        "14. **Objects**: Custom data types created using classes.\n",
        "\n",
        "These are the most common data types in Python, and each has its own set of methods and functions that can be used to manipulate and work with the data.\n"
      ],
      "metadata": {
        "id": "9NgLsbcO1afi"
      },
      "id": "9NgLsbcO1afi"
    },
    {
      "cell_type": "code",
      "execution_count": null,
      "id": "2d88a7fe",
      "metadata": {
        "id": "2d88a7fe"
      },
      "outputs": [],
      "source": [
        "#\n",
        "import numpy as np\n",
        "import pandas as pd\n",
        "import math"
      ]
    },
    {
      "cell_type": "markdown",
      "id": "9a84a805-69ec-4d07-bb03-4eef45dcece0",
      "metadata": {
        "id": "9a84a805-69ec-4d07-bb03-4eef45dcece0"
      },
      "source": [
        "**Numbers**\n",
        "There are two types of numbers: `int` and `float`. `int` is an integer and `float` is a number with a decimal point. In Python3, you can combine both types of numbers in the calculation without it causing any errors. \n",
        "\n",
        "Python operations:\n",
        "- Addition: x + y\n",
        "- Subtraction: x - y\n",
        "- Multiplication: x * y\n",
        "- Division: x /y \n",
        "- Modulus: x % y\n",
        "- Exponetiation: x ** y\n",
        "- Floor division: x // y "
      ]
    },
    {
      "cell_type": "code",
      "execution_count": null,
      "id": "a5515b79",
      "metadata": {
        "colab": {
          "base_uri": "https://localhost:8080/"
        },
        "id": "a5515b79",
        "outputId": "2eddd604-0808-4cd8-84d4-da1abf866f11"
      },
      "outputs": [
        {
          "output_type": "execute_result",
          "data": {
            "text/plain": [
              "5"
            ]
          },
          "metadata": {},
          "execution_count": 3
        }
      ],
      "source": [
        "# \n",
        "2+3"
      ]
    },
    {
      "cell_type": "code",
      "source": [
        "#\n",
        "2.0+3"
      ],
      "metadata": {
        "colab": {
          "base_uri": "https://localhost:8080/"
        },
        "id": "DOD7fn0N2xES",
        "outputId": "b90d3d7c-fa16-40e9-c07a-fdb1240f2cb6"
      },
      "id": "DOD7fn0N2xES",
      "execution_count": null,
      "outputs": [
        {
          "output_type": "execute_result",
          "data": {
            "text/plain": [
              "5.0"
            ]
          },
          "metadata": {},
          "execution_count": 4
        }
      ]
    },
    {
      "cell_type": "code",
      "source": [
        "#\n",
        "4/2"
      ],
      "metadata": {
        "colab": {
          "base_uri": "https://localhost:8080/"
        },
        "id": "2t3TU2O22y2C",
        "outputId": "db768ea4-832b-4ac4-f9d8-7cef48667da5"
      },
      "id": "2t3TU2O22y2C",
      "execution_count": null,
      "outputs": [
        {
          "output_type": "execute_result",
          "data": {
            "text/plain": [
              "2.0"
            ]
          },
          "metadata": {},
          "execution_count": 5
        }
      ]
    },
    {
      "cell_type": "code",
      "source": [
        "#\n",
        "7//2"
      ],
      "metadata": {
        "colab": {
          "base_uri": "https://localhost:8080/"
        },
        "id": "jTO4pnab22D8",
        "outputId": "2d5f1848-65d6-4508-bd64-9c743e55a51c"
      },
      "id": "jTO4pnab22D8",
      "execution_count": null,
      "outputs": [
        {
          "output_type": "execute_result",
          "data": {
            "text/plain": [
              "3"
            ]
          },
          "metadata": {},
          "execution_count": 6
        }
      ]
    },
    {
      "cell_type": "code",
      "source": [
        "# \n",
        "g = 10\n",
        "g*4"
      ],
      "metadata": {
        "colab": {
          "base_uri": "https://localhost:8080/"
        },
        "id": "b3MS8FDf3l_G",
        "outputId": "e43145b0-501f-427e-ad67-825ccb8c9943"
      },
      "id": "b3MS8FDf3l_G",
      "execution_count": null,
      "outputs": [
        {
          "output_type": "execute_result",
          "data": {
            "text/plain": [
              "40"
            ]
          },
          "metadata": {},
          "execution_count": 7
        }
      ]
    },
    {
      "cell_type": "markdown",
      "source": [
        "**Strings**\n",
        "A string contains textual information. It read all data within the quotations as a text (either single or double quotation). "
      ],
      "metadata": {
        "id": "uom7mSL13y6N"
      },
      "id": "uom7mSL13y6N"
    },
    {
      "cell_type": "code",
      "source": [
        "\"Hello world\""
      ],
      "metadata": {
        "colab": {
          "base_uri": "https://localhost:8080/",
          "height": 35
        },
        "id": "1VxDvHNo4PsK",
        "outputId": "9ce2f4cd-ddaa-410f-95c9-5dfa52337347"
      },
      "id": "1VxDvHNo4PsK",
      "execution_count": null,
      "outputs": [
        {
          "output_type": "execute_result",
          "data": {
            "text/plain": [
              "'Hello world'"
            ],
            "application/vnd.google.colaboratory.intrinsic+json": {
              "type": "string"
            }
          },
          "metadata": {},
          "execution_count": 8
        }
      ]
    },
    {
      "cell_type": "code",
      "source": [
        "#\n",
        "name = \"Your name\"\n",
        "name"
      ],
      "metadata": {
        "id": "BIdooEly4STW",
        "colab": {
          "base_uri": "https://localhost:8080/",
          "height": 35
        },
        "outputId": "c3779c2d-39a0-4b40-fbee-60c0dc3ffee5"
      },
      "id": "BIdooEly4STW",
      "execution_count": null,
      "outputs": [
        {
          "output_type": "execute_result",
          "data": {
            "text/plain": [
              "'Your name'"
            ],
            "application/vnd.google.colaboratory.intrinsic+json": {
              "type": "string"
            }
          },
          "metadata": {},
          "execution_count": 9
        }
      ]
    },
    {
      "cell_type": "markdown",
      "source": [
        "As mentioned before, you can use either double or single quotation marks. The benefit of the double quotation is when the text already contains single quotation."
      ],
      "metadata": {
        "id": "Ksg_3O2L4bKi"
      },
      "id": "Ksg_3O2L4bKi"
    },
    {
      "cell_type": "code",
      "source": [
        "\"Joe's\""
      ],
      "metadata": {
        "colab": {
          "base_uri": "https://localhost:8080/",
          "height": 35
        },
        "id": "CP7LRvGN4uJE",
        "outputId": "8fcf3f6e-7b2f-4006-eea3-7dd3c2b92e20"
      },
      "id": "CP7LRvGN4uJE",
      "execution_count": null,
      "outputs": [
        {
          "output_type": "execute_result",
          "data": {
            "text/plain": [
              "\"Joe's\""
            ],
            "application/vnd.google.colaboratory.intrinsic+json": {
              "type": "string"
            }
          },
          "metadata": {},
          "execution_count": 10
        }
      ]
    },
    {
      "cell_type": "code",
      "source": [
        "#\n",
        "'Joe's'"
      ],
      "metadata": {
        "colab": {
          "base_uri": "https://localhost:8080/",
          "height": 131
        },
        "id": "rnGiIt9y4v0s",
        "outputId": "1897f7d5-5cca-4d3e-9a4d-d55bd948eb39"
      },
      "id": "rnGiIt9y4v0s",
      "execution_count": null,
      "outputs": [
        {
          "output_type": "error",
          "ename": "SyntaxError",
          "evalue": "ignored",
          "traceback": [
            "\u001b[0;36m  File \u001b[0;32m\"<ipython-input-11-d81cc5f919ce>\"\u001b[0;36m, line \u001b[0;32m2\u001b[0m\n\u001b[0;31m    'Joe's'\u001b[0m\n\u001b[0m         ^\u001b[0m\n\u001b[0;31mSyntaxError\u001b[0m\u001b[0;31m:\u001b[0m invalid syntax\n"
          ]
        }
      ]
    },
    {
      "cell_type": "code",
      "source": [
        "#\n",
        "print(\"2+3\")\n",
        "print(2+3)"
      ],
      "metadata": {
        "colab": {
          "base_uri": "https://localhost:8080/"
        },
        "id": "GAc7-yYI4-x9",
        "outputId": "3ea464e3-b34a-401b-878a-f126ae8ab664"
      },
      "id": "GAc7-yYI4-x9",
      "execution_count": null,
      "outputs": [
        {
          "output_type": "stream",
          "name": "stdout",
          "text": [
            "2+3\n",
            "5\n"
          ]
        }
      ]
    },
    {
      "cell_type": "code",
      "source": [
        "#\n",
        "get_ipython().run_line_magic('pinfo', 'str.lower')"
      ],
      "metadata": {
        "id": "3JLvS_675J8z"
      },
      "id": "3JLvS_675J8z",
      "execution_count": null,
      "outputs": []
    },
    {
      "cell_type": "code",
      "source": [
        "# \n",
        "name = name.lower()\n",
        "name"
      ],
      "metadata": {
        "colab": {
          "base_uri": "https://localhost:8080/",
          "height": 35
        },
        "id": "b5gKbV5u5icw",
        "outputId": "00bceb16-f957-4693-814e-61dd7bdb1ce0"
      },
      "id": "b5gKbV5u5icw",
      "execution_count": null,
      "outputs": [
        {
          "output_type": "execute_result",
          "data": {
            "text/plain": [
              "'your name'"
            ],
            "application/vnd.google.colaboratory.intrinsic+json": {
              "type": "string"
            }
          },
          "metadata": {},
          "execution_count": 14
        }
      ]
    },
    {
      "cell_type": "markdown",
      "source": [
        "**Booleans** can only take `True` or `False` values. They represent the \"truth\" in a logical expression and can help us answer questions that require a yes (1) or no (0) response whenever a given condition is or is not met."
      ],
      "metadata": {
        "id": "eebxPOh_51BU"
      },
      "id": "eebxPOh_51BU"
    },
    {
      "cell_type": "code",
      "source": [
        "#\n",
        "type(True & False)"
      ],
      "metadata": {
        "colab": {
          "base_uri": "https://localhost:8080/"
        },
        "id": "qPnyGt8P6Rw1",
        "outputId": "3a669d47-faba-459c-da4e-8006fdb3a98f"
      },
      "id": "qPnyGt8P6Rw1",
      "execution_count": null,
      "outputs": [
        {
          "output_type": "execute_result",
          "data": {
            "text/plain": [
              "bool"
            ]
          },
          "metadata": {},
          "execution_count": 15
        }
      ]
    },
    {
      "cell_type": "code",
      "source": [
        "#\n",
        "False == 0"
      ],
      "metadata": {
        "colab": {
          "base_uri": "https://localhost:8080/"
        },
        "id": "IwLxwTP06ZmR",
        "outputId": "8984698f-e675-4633-cab7-307f4dfd4318"
      },
      "id": "IwLxwTP06ZmR",
      "execution_count": null,
      "outputs": [
        {
          "output_type": "execute_result",
          "data": {
            "text/plain": [
              "True"
            ]
          },
          "metadata": {},
          "execution_count": 16
        }
      ]
    },
    {
      "cell_type": "markdown",
      "source": [
        "Boolean operations: \n",
        "- (==) Equal\n",
        "- (!=) Not equal\n",
        "- (>) Greater than\n",
        "- (<) Less than\n",
        "- (>=) Greater than or equal to \n",
        "- (<=) Less than or equal to"
      ],
      "metadata": {
        "id": "4qneSSlJ6jed"
      },
      "id": "4qneSSlJ6jed"
    },
    {
      "cell_type": "code",
      "source": [
        "#\n",
        "x = 5\n",
        "y = 10\n",
        "\n",
        "# \n",
        "x == y"
      ],
      "metadata": {
        "colab": {
          "base_uri": "https://localhost:8080/"
        },
        "id": "QhIADltm6if4",
        "outputId": "9dfdfede-c6a8-4e8d-95ff-d654e941beb4"
      },
      "id": "QhIADltm6if4",
      "execution_count": null,
      "outputs": [
        {
          "output_type": "execute_result",
          "data": {
            "text/plain": [
              "False"
            ]
          },
          "metadata": {},
          "execution_count": 17
        }
      ]
    },
    {
      "cell_type": "code",
      "source": [
        "x < y"
      ],
      "metadata": {
        "colab": {
          "base_uri": "https://localhost:8080/"
        },
        "id": "3T8vwsjU7PFZ",
        "outputId": "526d6848-11f8-42cf-c27c-61ab88c9a747"
      },
      "id": "3T8vwsjU7PFZ",
      "execution_count": null,
      "outputs": [
        {
          "output_type": "execute_result",
          "data": {
            "text/plain": [
              "True"
            ]
          },
          "metadata": {},
          "execution_count": 18
        }
      ]
    },
    {
      "cell_type": "markdown",
      "source": [
        "**Lists** is a data type that allows you to save multiple type of information. They can contain different data type. "
      ],
      "metadata": {
        "id": "hxEzN2397Thn"
      },
      "id": "hxEzN2397Thn"
    },
    {
      "cell_type": "code",
      "source": [
        "#\n",
        "ls = []\n",
        "ls"
      ],
      "metadata": {
        "colab": {
          "base_uri": "https://localhost:8080/"
        },
        "id": "OIbFxY9l7rxY",
        "outputId": "58e78f26-357f-4f08-d20a-f43529176e0f"
      },
      "id": "OIbFxY9l7rxY",
      "execution_count": null,
      "outputs": [
        {
          "output_type": "execute_result",
          "data": {
            "text/plain": [
              "[]"
            ]
          },
          "metadata": {},
          "execution_count": 19
        }
      ]
    },
    {
      "cell_type": "code",
      "source": [
        "#\n",
        "ls = [2, \"name\", 3, [5,6,7], \"UCSD\"]\n",
        "ls"
      ],
      "metadata": {
        "colab": {
          "base_uri": "https://localhost:8080/"
        },
        "id": "NjwPjl0A7yRC",
        "outputId": "03aee5cb-a02f-4ba7-f3bb-a01f4e829959"
      },
      "id": "NjwPjl0A7yRC",
      "execution_count": null,
      "outputs": [
        {
          "output_type": "execute_result",
          "data": {
            "text/plain": [
              "[2, 'name', 3, [5, 6, 7], 'UCSD']"
            ]
          },
          "metadata": {},
          "execution_count": 20
        }
      ]
    },
    {
      "cell_type": "code",
      "source": [
        "#\n",
        "ls[0]"
      ],
      "metadata": {
        "colab": {
          "base_uri": "https://localhost:8080/"
        },
        "id": "hvmmD8UI8tXv",
        "outputId": "2ce58eff-ece8-4b89-ef06-ed28f8927faa"
      },
      "id": "hvmmD8UI8tXv",
      "execution_count": null,
      "outputs": [
        {
          "output_type": "execute_result",
          "data": {
            "text/plain": [
              "2"
            ]
          },
          "metadata": {},
          "execution_count": 21
        }
      ]
    },
    {
      "cell_type": "code",
      "source": [
        "#\n",
        "ls[3][2]"
      ],
      "metadata": {
        "colab": {
          "base_uri": "https://localhost:8080/"
        },
        "id": "SONdgV2y86Fu",
        "outputId": "7876bfad-712d-48e6-d70c-f5c6b9f9f9a2"
      },
      "id": "SONdgV2y86Fu",
      "execution_count": null,
      "outputs": [
        {
          "output_type": "execute_result",
          "data": {
            "text/plain": [
              "7"
            ]
          },
          "metadata": {},
          "execution_count": 22
        }
      ]
    },
    {
      "cell_type": "code",
      "source": [
        "#\n",
        "ls[0] = 10\n",
        "ls"
      ],
      "metadata": {
        "colab": {
          "base_uri": "https://localhost:8080/"
        },
        "id": "RsuJIEYB9BVY",
        "outputId": "bb610c7b-1a99-4b42-843c-93d1e6befa03"
      },
      "id": "RsuJIEYB9BVY",
      "execution_count": null,
      "outputs": [
        {
          "output_type": "execute_result",
          "data": {
            "text/plain": [
              "[10, 'name', 3, [5, 6, 7], 'UCSD']"
            ]
          },
          "metadata": {},
          "execution_count": 23
        }
      ]
    },
    {
      "cell_type": "markdown",
      "source": [
        "Some useful built-in function for list:\n",
        "- `append`: add element to the end of the list\n",
        "- `insert`: add element at a specific position in the list\n",
        "- `len`: count the number of objects in the list\n",
        "- `pop`: remove the last element by default, or remove a specific index\n",
        "- `remove`: remove the exact values in the list"
      ],
      "metadata": {
        "id": "QuyhOBKf9Rea"
      },
      "id": "QuyhOBKf9Rea"
    },
    {
      "cell_type": "code",
      "source": [
        "#\n",
        "ls.append(\"Nice University\")\n",
        "ls"
      ],
      "metadata": {
        "colab": {
          "base_uri": "https://localhost:8080/"
        },
        "id": "VBxsofA6-bRF",
        "outputId": "90ee58eb-a8fe-4922-809e-ebbd7baf1df4"
      },
      "id": "VBxsofA6-bRF",
      "execution_count": null,
      "outputs": [
        {
          "output_type": "execute_result",
          "data": {
            "text/plain": [
              "[10, 'name', 3, [5, 6, 7], 'UCSD', 'Nice University']"
            ]
          },
          "metadata": {},
          "execution_count": 24
        }
      ]
    },
    {
      "cell_type": "code",
      "source": [
        "#\n",
        "ls.insert(5, \"Is A\")\n",
        "ls"
      ],
      "metadata": {
        "colab": {
          "base_uri": "https://localhost:8080/"
        },
        "id": "qGMraHLz-hd7",
        "outputId": "4d40e4fb-174d-4a90-db58-90a9e43e21b5"
      },
      "id": "qGMraHLz-hd7",
      "execution_count": null,
      "outputs": [
        {
          "output_type": "execute_result",
          "data": {
            "text/plain": [
              "[10, 'name', 3, [5, 6, 7], 'UCSD', 'Is A']"
            ]
          },
          "metadata": {},
          "execution_count": 30
        }
      ]
    },
    {
      "cell_type": "code",
      "source": [
        "#\n",
        "len(ls)"
      ],
      "metadata": {
        "colab": {
          "base_uri": "https://localhost:8080/"
        },
        "id": "AxIzUKPl-8C0",
        "outputId": "3b853a98-db45-4f5d-8b35-132667294adc"
      },
      "id": "AxIzUKPl-8C0",
      "execution_count": null,
      "outputs": [
        {
          "output_type": "execute_result",
          "data": {
            "text/plain": [
              "7"
            ]
          },
          "metadata": {},
          "execution_count": 26
        }
      ]
    },
    {
      "cell_type": "code",
      "source": [
        "#\n",
        "ls.pop()\n",
        "ls"
      ],
      "metadata": {
        "colab": {
          "base_uri": "https://localhost:8080/"
        },
        "id": "e0ZZJQUU_A3D",
        "outputId": "d118529c-3ff9-4598-ea2f-b0f2d74b66a1"
      },
      "id": "e0ZZJQUU_A3D",
      "execution_count": null,
      "outputs": [
        {
          "output_type": "execute_result",
          "data": {
            "text/plain": [
              "[10, 'name', 3, [5, 6, 7], 'UCSD']"
            ]
          },
          "metadata": {},
          "execution_count": 28
        }
      ]
    },
    {
      "cell_type": "code",
      "source": [
        "#\n",
        "ls.remove('Is A')\n",
        "ls"
      ],
      "metadata": {
        "colab": {
          "base_uri": "https://localhost:8080/"
        },
        "id": "gKldD83O_Gje",
        "outputId": "3dbe2dbe-c041-4d95-c151-c70e66706503"
      },
      "id": "gKldD83O_Gje",
      "execution_count": null,
      "outputs": [
        {
          "output_type": "execute_result",
          "data": {
            "text/plain": [
              "[10, 'name', 3, [5, 6, 7], 'UCSD']"
            ]
          },
          "metadata": {},
          "execution_count": 31
        }
      ]
    },
    {
      "cell_type": "markdown",
      "source": [
        "**Arrays** is similar to list, but only allows for one type of information to be saved in them. They are most useful when you want to have a set of the same type of data so that you can easily modify together."
      ],
      "metadata": {
        "id": "8EcS-gIN_Q8m"
      },
      "id": "8EcS-gIN_Q8m"
    },
    {
      "cell_type": "code",
      "source": [
        "#\n",
        "array = [0, 1, 2, 3, 4, 5, 6]"
      ],
      "metadata": {
        "id": "QDSsJtwB_8yI"
      },
      "id": "QDSsJtwB_8yI",
      "execution_count": null,
      "outputs": []
    },
    {
      "cell_type": "code",
      "source": [
        "#\n",
        "array[2]"
      ],
      "metadata": {
        "colab": {
          "base_uri": "https://localhost:8080/"
        },
        "id": "VJ6bhimpABUd",
        "outputId": "1e369c45-667e-4fb6-c335-6825652fdc3a"
      },
      "id": "VJ6bhimpABUd",
      "execution_count": null,
      "outputs": [
        {
          "output_type": "execute_result",
          "data": {
            "text/plain": [
              "2"
            ]
          },
          "metadata": {},
          "execution_count": 38
        }
      ]
    },
    {
      "cell_type": "markdown",
      "source": [
        "**Tuples** look and behave similarly to arrays, but they cannot be modified. It can be used to store data that shouldn't be modified under any circumstances. "
      ],
      "metadata": {
        "id": "lkm1IeOVAY_W"
      },
      "id": "lkm1IeOVAY_W"
    },
    {
      "cell_type": "code",
      "source": [
        "#\n",
        "tup = tuple([2,3,4])\n",
        "tup"
      ],
      "metadata": {
        "colab": {
          "base_uri": "https://localhost:8080/"
        },
        "id": "kbMhwBnKAwms",
        "outputId": "0037983f-8a77-4200-b74e-b46070c15076"
      },
      "id": "kbMhwBnKAwms",
      "execution_count": null,
      "outputs": [
        {
          "output_type": "execute_result",
          "data": {
            "text/plain": [
              "(2, 3, 4)"
            ]
          },
          "metadata": {},
          "execution_count": 39
        }
      ]
    },
    {
      "cell_type": "code",
      "source": [
        "#\n",
        "tup[1]"
      ],
      "metadata": {
        "colab": {
          "base_uri": "https://localhost:8080/"
        },
        "id": "muTGEu_BA0uH",
        "outputId": "669639a3-ea4b-4775-96ec-6e7399b77539"
      },
      "id": "muTGEu_BA0uH",
      "execution_count": null,
      "outputs": [
        {
          "output_type": "execute_result",
          "data": {
            "text/plain": [
              "3"
            ]
          },
          "metadata": {},
          "execution_count": 40
        }
      ]
    },
    {
      "cell_type": "code",
      "source": [
        "#\n",
        "tup[1] = 5"
      ],
      "metadata": {
        "colab": {
          "base_uri": "https://localhost:8080/",
          "height": 166
        },
        "id": "DSOPt38kA2lb",
        "outputId": "51dd945a-96cf-4415-8c34-d21c18a3fbc9"
      },
      "id": "DSOPt38kA2lb",
      "execution_count": null,
      "outputs": [
        {
          "output_type": "error",
          "ename": "TypeError",
          "evalue": "ignored",
          "traceback": [
            "\u001b[0;31m---------------------------------------------------------------------------\u001b[0m",
            "\u001b[0;31mTypeError\u001b[0m                                 Traceback (most recent call last)",
            "\u001b[0;32m<ipython-input-41-d14146d6c2a7>\u001b[0m in \u001b[0;36m<module>\u001b[0;34m\u001b[0m\n\u001b[0;32m----> 1\u001b[0;31m \u001b[0mtup\u001b[0m\u001b[0;34m[\u001b[0m\u001b[0;36m1\u001b[0m\u001b[0;34m]\u001b[0m \u001b[0;34m=\u001b[0m \u001b[0;36m5\u001b[0m\u001b[0;34m\u001b[0m\u001b[0;34m\u001b[0m\u001b[0m\n\u001b[0m",
            "\u001b[0;31mTypeError\u001b[0m: 'tuple' object does not support item assignment"
          ]
        }
      ]
    },
    {
      "cell_type": "markdown",
      "source": [
        "**Dictionaries** is a collection of unordered and indexable data types. It is a powerful data structure because data is stored as key-value pairs. Keys act as \"labels\" for the data you want to reresent. "
      ],
      "metadata": {
        "id": "2DGJVIfjA_gv"
      },
      "id": "2DGJVIfjA_gv"
    },
    {
      "cell_type": "code",
      "source": [
        "# \n",
        "data = {\"ecutwfc\":[12, 14, 16, 18, 20, 22, 24, 26, 28], \n",
        "        \"total energy (Ry)\":[-15.72103297, -15.73286882, -15.73805663, -15.73997748, -15.74073755, -15.74104964, -15.74118467, -15.74124723, -15.74128342]}\n",
        "data"
      ],
      "metadata": {
        "colab": {
          "base_uri": "https://localhost:8080/"
        },
        "id": "zLqF_nbMBdSG",
        "outputId": "5f839fee-e826-4844-926d-6aa765c86deb"
      },
      "id": "zLqF_nbMBdSG",
      "execution_count": null,
      "outputs": [
        {
          "output_type": "execute_result",
          "data": {
            "text/plain": [
              "{'ecutwfc': [12, 14, 16, 18, 20, 22, 24, 26, 28],\n",
              " 'total energy (Ry)': [-15.72103297,\n",
              "  -15.73286882,\n",
              "  -15.73805663,\n",
              "  -15.73997748,\n",
              "  -15.74073755,\n",
              "  -15.74104964,\n",
              "  -15.74118467,\n",
              "  -15.74124723,\n",
              "  -15.74128342]}"
            ]
          },
          "metadata": {},
          "execution_count": 44
        }
      ]
    },
    {
      "cell_type": "code",
      "source": [
        "#\n",
        "global_data = {\n",
        "    \"Trial 1\" : {\n",
        "        \"ecutwfc\":[12, 14, 16, 18, 20, 22, 24, 26, 28], \n",
        "        \"total energy (Ry)\":[-15.72103297, -15.73286882, -15.73805663, -15.73997748, -15.74073755, -15.74104964, -15.74118467, -15.74124723, -15.74128342]\n",
        "    },\n",
        "    \"Trial 2\" : {\n",
        "        \"ecutwfc\":[13, 15, 17, 19, 21, 23, 25, 27, 29], \n",
        "        \"total energy (Ry)\":[-15.72103297, -15.73286882, -15.73805663, -15.73997748, -15.74073755, -15.74104964, -15.74118467, -15.74124723, -15.74128342]\n",
        "    },\n",
        "    \"Trial 3\" : {\n",
        "        \"ecutwfc\":[14, 16, 18, 20, 22, 24, 26, 28, 30], \n",
        "        \"total energy (Ry)\":[-15.72103297, -15.73286882, -15.73805663, -15.73997748, -15.74073755, -15.74104964, -15.74118467, -15.74124723, -15.74128342]\n",
        "    }\n",
        "}\n",
        "global_data"
      ],
      "metadata": {
        "colab": {
          "base_uri": "https://localhost:8080/"
        },
        "id": "zWTEA2MwB3_3",
        "outputId": "e4c5d5a0-c295-4033-f62f-86ff32599924"
      },
      "id": "zWTEA2MwB3_3",
      "execution_count": null,
      "outputs": [
        {
          "output_type": "execute_result",
          "data": {
            "text/plain": [
              "{'Trial 1': {'ecutwfc': [12, 14, 16, 18, 20, 22, 24, 26, 28],\n",
              "  'total energy (Ry)': [-15.72103297,\n",
              "   -15.73286882,\n",
              "   -15.73805663,\n",
              "   -15.73997748,\n",
              "   -15.74073755,\n",
              "   -15.74104964,\n",
              "   -15.74118467,\n",
              "   -15.74124723,\n",
              "   -15.74128342]},\n",
              " 'Trial 2': {'ecutwfc': [13, 15, 17, 19, 21, 23, 25, 27, 29],\n",
              "  'total energy (Ry)': [-15.72103297,\n",
              "   -15.73286882,\n",
              "   -15.73805663,\n",
              "   -15.73997748,\n",
              "   -15.74073755,\n",
              "   -15.74104964,\n",
              "   -15.74118467,\n",
              "   -15.74124723,\n",
              "   -15.74128342]},\n",
              " 'Trial 3': {'ecutwfc': [14, 16, 18, 20, 22, 24, 26, 28, 30],\n",
              "  'total energy (Ry)': [-15.72103297,\n",
              "   -15.73286882,\n",
              "   -15.73805663,\n",
              "   -15.73997748,\n",
              "   -15.74073755,\n",
              "   -15.74104964,\n",
              "   -15.74118467,\n",
              "   -15.74124723,\n",
              "   -15.74128342]}}"
            ]
          },
          "metadata": {},
          "execution_count": 48
        }
      ]
    },
    {
      "cell_type": "markdown",
      "source": [
        "To access elements within a `dict`, you can use the bracket notatation like that of `list` or `array`, but instead of specifying the index position of the value you want to manipulate, for `dict` you have to specify the key. "
      ],
      "metadata": {
        "id": "HbVUM4ztCj6Q"
      },
      "id": "HbVUM4ztCj6Q"
    },
    {
      "cell_type": "code",
      "source": [
        "#\n",
        "global_data[\"Trial 1\"]"
      ],
      "metadata": {
        "colab": {
          "base_uri": "https://localhost:8080/"
        },
        "id": "b06IbTGBC39T",
        "outputId": "4513399f-9a0a-4213-a30d-1bb8cb35c5d2"
      },
      "id": "b06IbTGBC39T",
      "execution_count": null,
      "outputs": [
        {
          "output_type": "execute_result",
          "data": {
            "text/plain": [
              "{'ecutwfc': [12, 14, 16, 18, 20, 22, 24, 26, 28],\n",
              " 'total energy (Ry)': [-15.72103297,\n",
              "  -15.73286882,\n",
              "  -15.73805663,\n",
              "  -15.73997748,\n",
              "  -15.74073755,\n",
              "  -15.74104964,\n",
              "  -15.74118467,\n",
              "  -15.74124723,\n",
              "  -15.74128342]}"
            ]
          },
          "metadata": {},
          "execution_count": 51
        }
      ]
    },
    {
      "cell_type": "code",
      "source": [
        "#\n",
        "global_data[\"Trial 1\"][\"ecutwfc\"]"
      ],
      "metadata": {
        "colab": {
          "base_uri": "https://localhost:8080/"
        },
        "id": "0o1lfirtDGo8",
        "outputId": "b8ac14cb-2103-4fc4-b88b-03ad0992bcb9"
      },
      "id": "0o1lfirtDGo8",
      "execution_count": null,
      "outputs": [
        {
          "output_type": "execute_result",
          "data": {
            "text/plain": [
              "[12, 14, 16, 18, 20, 22, 24, 26, 28]"
            ]
          },
          "metadata": {},
          "execution_count": 52
        }
      ]
    },
    {
      "cell_type": "code",
      "source": [
        "#\n",
        "global_data[\"Trial 4\"] = \"No reliable data collected\"\n",
        "global_data"
      ],
      "metadata": {
        "colab": {
          "base_uri": "https://localhost:8080/"
        },
        "id": "dZ_acnyQDPit",
        "outputId": "2b4e2d90-2712-4686-cbfd-d57a3400f5b3"
      },
      "id": "dZ_acnyQDPit",
      "execution_count": null,
      "outputs": [
        {
          "output_type": "execute_result",
          "data": {
            "text/plain": [
              "{'Trial 1': {'ecutwfc': [12, 14, 16, 18, 20, 22, 24, 26, 28],\n",
              "  'total energy (Ry)': [-15.72103297,\n",
              "   -15.73286882,\n",
              "   -15.73805663,\n",
              "   -15.73997748,\n",
              "   -15.74073755,\n",
              "   -15.74104964,\n",
              "   -15.74118467,\n",
              "   -15.74124723,\n",
              "   -15.74128342]},\n",
              " 'Trial 2': {'ecutwfc': [13, 15, 17, 19, 21, 23, 25, 27, 29],\n",
              "  'total energy (Ry)': [-15.72103297,\n",
              "   -15.73286882,\n",
              "   -15.73805663,\n",
              "   -15.73997748,\n",
              "   -15.74073755,\n",
              "   -15.74104964,\n",
              "   -15.74118467,\n",
              "   -15.74124723,\n",
              "   -15.74128342]},\n",
              " 'Trial 3': {'ecutwfc': [14, 16, 18, 20, 22, 24, 26, 28, 30],\n",
              "  'total energy (Ry)': [-15.72103297,\n",
              "   -15.73286882,\n",
              "   -15.73805663,\n",
              "   -15.73997748,\n",
              "   -15.74073755,\n",
              "   -15.74104964,\n",
              "   -15.74118467,\n",
              "   -15.74124723,\n",
              "   -15.74128342]},\n",
              " 'Trial 4': 'No reliable data collected'}"
            ]
          },
          "metadata": {},
          "execution_count": 53
        }
      ]
    },
    {
      "cell_type": "markdown",
      "source": [
        "Some useful built-in functions for `dict`:\n",
        "- items(): helps you see the content in the dictionary. *Useful for when you are trying to loop or iterate over a dictionary using the key-value pairs.\n",
        "- keys(): access only the keys\n",
        "- values(): access only the values"
      ],
      "metadata": {
        "id": "pKxKH0n5DZi4"
      },
      "id": "pKxKH0n5DZi4"
    },
    {
      "cell_type": "code",
      "source": [
        "#\n",
        "data.items()"
      ],
      "metadata": {
        "colab": {
          "base_uri": "https://localhost:8080/"
        },
        "id": "Epmarnb4D8LI",
        "outputId": "34d82d44-6706-4d1c-8484-273d91b34fea"
      },
      "id": "Epmarnb4D8LI",
      "execution_count": null,
      "outputs": [
        {
          "output_type": "execute_result",
          "data": {
            "text/plain": [
              "dict_items([('ecutwfc', [12, 14, 16, 18, 20, 22, 24, 26, 28]), ('total energy (Ry)', [-15.72103297, -15.73286882, -15.73805663, -15.73997748, -15.74073755, -15.74104964, -15.74118467, -15.74124723, -15.74128342])])"
            ]
          },
          "metadata": {},
          "execution_count": 55
        }
      ]
    },
    {
      "cell_type": "code",
      "source": [
        "#\n",
        "data.keys()"
      ],
      "metadata": {
        "colab": {
          "base_uri": "https://localhost:8080/"
        },
        "id": "M4QZz5mTEA03",
        "outputId": "e55a526a-1b97-41e5-ed2b-ab105b0f00c9"
      },
      "id": "M4QZz5mTEA03",
      "execution_count": null,
      "outputs": [
        {
          "output_type": "execute_result",
          "data": {
            "text/plain": [
              "dict_keys(['ecutwfc', 'total energy (Ry)'])"
            ]
          },
          "metadata": {},
          "execution_count": 56
        }
      ]
    },
    {
      "cell_type": "code",
      "source": [
        "#\n",
        "data.values()"
      ],
      "metadata": {
        "colab": {
          "base_uri": "https://localhost:8080/"
        },
        "id": "zP9rpLEBEGoO",
        "outputId": "9b085afb-d3e4-4e97-b534-d27ad0e4b1a1"
      },
      "id": "zP9rpLEBEGoO",
      "execution_count": null,
      "outputs": [
        {
          "output_type": "execute_result",
          "data": {
            "text/plain": [
              "dict_values([[12, 14, 16, 18, 20, 22, 24, 26, 28], [-15.72103297, -15.73286882, -15.73805663, -15.73997748, -15.74073755, -15.74104964, -15.74118467, -15.74124723, -15.74128342]])"
            ]
          },
          "metadata": {},
          "execution_count": 57
        }
      ]
    },
    {
      "cell_type": "markdown",
      "source": [
        "# Conditional statements and Loops"
      ],
      "metadata": {
        "id": "irNgP3iWEYJF"
      },
      "id": "irNgP3iWEYJF"
    },
    {
      "cell_type": "markdown",
      "source": [
        "Similar to MATLAB, Python has if/elseif/else, for, and while loop"
      ],
      "metadata": {
        "id": "eAUGlS92EsIT"
      },
      "id": "eAUGlS92EsIT"
    },
    {
      "cell_type": "markdown",
      "source": [
        "**Conditional statements** work by first evaluating the header expression (the line with `if`). If the statement is true, then execute the condition, otherwise, check the next condition `elif` and so on. \n",
        "\n",
        "You can have as many `elif` as you want, but you can only have one `if` and one `else` statement. `else` always comes at the end. You do not always need an `else` condition. "
      ],
      "metadata": {
        "id": "y34hu5xAFE0o"
      },
      "id": "y34hu5xAFE0o"
    },
    {
      "cell_type": "code",
      "source": [
        "#\n",
        "if 5 < 6:\n",
        "    print(\"True. 5 is less than 6!\")\n",
        "elif 5 == 6:\n",
        "    print (\" Huh. How is 5 equal to 6??\")\n",
        "else: \n",
        "    print(\"Huh. How is 5 greater than 6?\")"
      ],
      "metadata": {
        "colab": {
          "base_uri": "https://localhost:8080/"
        },
        "id": "FxLToY1QErUM",
        "outputId": "b6e55865-2dcc-44ea-ba1c-87238923af7c"
      },
      "id": "FxLToY1QErUM",
      "execution_count": null,
      "outputs": [
        {
          "output_type": "stream",
          "name": "stdout",
          "text": [
            "True. 5 is less than 6!\n"
          ]
        }
      ]
    },
    {
      "cell_type": "markdown",
      "source": [
        "**Loops** goes through a collection of data and executes some user-specified action for each value in that collection of data. \n",
        "\n",
        "It is very useful when we want to perform some operation on a list or tuple but doing it on each element is too tedious. "
      ],
      "metadata": {
        "id": "rgy56ofVGMds"
      },
      "id": "rgy56ofVGMds"
    },
    {
      "cell_type": "code",
      "source": [
        "#\n",
        "for x in range(10):\n",
        "    print(x**2)"
      ],
      "metadata": {
        "colab": {
          "base_uri": "https://localhost:8080/"
        },
        "id": "O8N0VFREGnjL",
        "outputId": "bf0e552d-ebe4-4aab-98cb-ffa8f2d4b301"
      },
      "id": "O8N0VFREGnjL",
      "execution_count": null,
      "outputs": [
        {
          "output_type": "stream",
          "name": "stdout",
          "text": [
            "0\n",
            "1\n",
            "4\n",
            "9\n",
            "16\n",
            "25\n",
            "36\n",
            "49\n",
            "64\n",
            "81\n"
          ]
        }
      ]
    },
    {
      "cell_type": "code",
      "source": [
        "#\n",
        "radiuses = [1, 3, 5, 7, 9]\n",
        "\n",
        "for radius in radiuses: \n",
        "    area = math.pi*radius**2\n",
        "    print(area)\n",
        "    \n",
        "area"
      ],
      "metadata": {
        "colab": {
          "base_uri": "https://localhost:8080/"
        },
        "id": "9DjLpDONG-OI",
        "outputId": "53e5c293-84f1-4033-e458-622ff95a33c7"
      },
      "id": "9DjLpDONG-OI",
      "execution_count": null,
      "outputs": [
        {
          "output_type": "stream",
          "name": "stdout",
          "text": [
            "3.141592653589793\n",
            "28.274333882308138\n",
            "78.53981633974483\n",
            "153.93804002589985\n",
            "254.46900494077323\n"
          ]
        },
        {
          "output_type": "execute_result",
          "data": {
            "text/plain": [
              "254.46900494077323"
            ]
          },
          "metadata": {},
          "execution_count": 65
        }
      ]
    },
    {
      "cell_type": "markdown",
      "source": [
        "A while loop runs the condition until the expression becomes `false`. An `else` clause can be added to specfiy the condition when the loop becomes `false`.  "
      ],
      "metadata": {
        "id": "lICtzsFeHdyi"
      },
      "id": "lICtzsFeHdyi"
    },
    {
      "cell_type": "code",
      "source": [
        "#\n",
        "x = 10\n",
        "while x:\n",
        "    print(x)\n",
        "    x = x - 1\n",
        "else:\n",
        "    print('Done with my countdown!')"
      ],
      "metadata": {
        "colab": {
          "base_uri": "https://localhost:8080/"
        },
        "id": "cuzBr5HjHrWK",
        "outputId": "552b15c8-d423-41cf-b59f-070daf2c507b"
      },
      "id": "cuzBr5HjHrWK",
      "execution_count": null,
      "outputs": [
        {
          "output_type": "stream",
          "name": "stdout",
          "text": [
            "10\n",
            "9\n",
            "8\n",
            "7\n",
            "6\n",
            "5\n",
            "4\n",
            "3\n",
            "2\n",
            "1\n",
            "Done with my countdown!\n"
          ]
        }
      ]
    },
    {
      "cell_type": "markdown",
      "source": [
        "# Defining functions"
      ],
      "metadata": {
        "id": "yyvaS1TfHxfH"
      },
      "id": "yyvaS1TfHxfH"
    },
    {
      "cell_type": "markdown",
      "source": [
        "Python have a lot of default functions, in addition to the huge amount of functions available through libraries. If there exists a function that can carry out the specific task you are looking to do, then use the existing function. \n",
        "\n",
        "However, often times, what you are looking to do is more specific and contains logics that are appropriate to only your use-case. An essential aspect of programming as a whole is the ability to define functions that can do what you want it to do. It is important for several reasons:\n",
        "- **Code reusability**: Defining a function allows you to reuse code multiple times without having to write the same code repeatedly. This helps to save time and effort, and it also makes your code more readable and maintainable.\n",
        "\n",
        "- **Modularity**: Functions allow you to break down a large program into smaller, more manageable pieces. This makes your code easier to read, test, and debug. It also allows multiple developers to work on different parts of the codebase simultaneously, which can speed up development time.\n",
        "\n",
        "- **Abstraction**: Functions abstract away implementation details, allowing you to focus on the functionality that you want to achieve. This makes your code more concise and easier to understand.\n",
        "\n",
        "- **Encapsulation**: Functions can encapsulate variables and logic, which helps to prevent unintended side effects and makes your code more robust.\n",
        "\n",
        "- **Testing**: Functions are easy to test, which makes it easier to catch bugs and ensure that your code is working correctly."
      ],
      "metadata": {
        "id": "9abqojy-IQy1"
      },
      "id": "9abqojy-IQy1"
    },
    {
      "cell_type": "code",
      "source": [
        "# \n",
        "def square(x):\n",
        "    return x**2\n",
        "\n",
        "a = square(3)\n",
        "a"
      ],
      "metadata": {
        "id": "VedMTUTTeGCa"
      },
      "id": "VedMTUTTeGCa",
      "execution_count": null,
      "outputs": []
    },
    {
      "cell_type": "code",
      "source": [
        "# \n",
        "def mult_not_eq(x, y):\n",
        "    # if the first number is not equal to the second\n",
        "    if x!=y:\n",
        "    # I will multiply them\n",
        "        return x*y\n",
        "    else:\n",
        "        print(\"Use the square function instead\")\n",
        "        \n",
        "mult_not_eq(2, 2)"
      ],
      "metadata": {
        "colab": {
          "base_uri": "https://localhost:8080/"
        },
        "id": "BeADkMZrdo2D",
        "outputId": "735a9800-5cd1-485c-e9dd-21f2e78ee5fc"
      },
      "id": "BeADkMZrdo2D",
      "execution_count": null,
      "outputs": [
        {
          "output_type": "stream",
          "name": "stdout",
          "text": [
            "Use the square function instead\n"
          ]
        }
      ]
    }
  ],
  "metadata": {
    "kernelspec": {
      "display_name": "Python 3",
      "language": "python",
      "name": "python3"
    },
    "language_info": {
      "codemirror_mode": {
        "name": "ipython",
        "version": 3
      },
      "file_extension": ".py",
      "mimetype": "text/x-python",
      "name": "python",
      "nbconvert_exporter": "python",
      "pygments_lexer": "ipython3",
      "version": "3.8.8"
    },
    "colab": {
      "provenance": []
    }
  },
  "nbformat": 4,
  "nbformat_minor": 5
}
