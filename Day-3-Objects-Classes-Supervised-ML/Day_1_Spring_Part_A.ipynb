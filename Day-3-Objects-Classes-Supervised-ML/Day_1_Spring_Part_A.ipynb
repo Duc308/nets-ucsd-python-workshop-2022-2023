{
  "cells": [
    {
      "cell_type": "markdown",
      "source": [
        "*Examples taken from Kseniya Usovich and Karla Palos from UC Berkeley Intro to Python*"
      ],
      "metadata": {
        "id": "cicYvbGUeWci"
      },
      "id": "cicYvbGUeWci"
    },
    {
      "cell_type": "markdown",
      "id": "9b175ba0-4c58-46a9-8e94-a4a99ef46fa7",
      "metadata": {
        "id": "9b175ba0-4c58-46a9-8e94-a4a99ef46fa7"
      },
      "source": [
        "# Data Types and Structures\n"
      ]
    },
    {
      "cell_type": "code",
      "source": [],
      "metadata": {
        "id": "CBSF7I_qeWAb"
      },
      "id": "CBSF7I_qeWAb",
      "execution_count": null,
      "outputs": []
    },
    {
      "cell_type": "markdown",
      "id": "8a664885-f215-47d2-979a-c7534373a4c9",
      "metadata": {
        "id": "8a664885-f215-47d2-979a-c7534373a4c9"
      },
      "source": [
        "In general for progamming, defining a variable means creating a container that allows us to save **one type of information** we plan to use later. "
      ]
    },
    {
      "cell_type": "code",
      "source": [
        "# \n",
        "variable = \"Hello World\"\n",
        "print(variable)"
      ],
      "metadata": {
        "colab": {
          "base_uri": "https://localhost:8080/"
        },
        "id": "SU_BtvkF1cI_",
        "outputId": "206d9e7f-40e7-4ff7-f539-b2fbb6a15c49"
      },
      "id": "SU_BtvkF1cI_",
      "execution_count": null,
      "outputs": [
        {
          "output_type": "stream",
          "name": "stdout",
          "text": [
            "Hello World\n"
          ]
        }
      ]
    },
    {
      "cell_type": "markdown",
      "source": [
        "In Python, there are several types of data that you can work with, including:\n",
        "\n",
        "1. **Numbers**: Integers, Floats, and Complex numbers.\n",
        "\n",
        "2. **Strings**: Sequences of characters enclosed in single or double quotes.\n",
        "\n",
        "3. **Boolean**: Logical values that can either be True or False.\n",
        "\n",
        "4. **Lists**: Ordered collections of items, which can be of any data type.\n",
        "\n",
        "5. **Arrays**: Ordered collections of items of one data type. \n",
        "\n",
        "5. **Tuples**: Immutable ordered collections of items, which can be of any data type.\n",
        "\n",
        "6. **Sets**: Unordered collections of unique items, which can be of any data type.\n",
        "\n",
        "7. **Dictionaries**: Unordered collections of key-value pairs, where each key must be unique.\n",
        "\n",
        "8. **Bytes and ByteArrays**: Sequences of bytes, used to represent binary data.\n",
        "\n",
        "9. **None**: A special data type representing the absence of a value.\n",
        "\n",
        "10. **Range**: A sequence of numbers that can be used in loops.\n",
        "\n",
        "11. **FrozenSets**: Immutable sets that contain unique values.\n",
        "\n",
        "12. **Complex**: A complex number with a real and imaginary part.\n",
        "\n",
        "13. **Datetime**: A module that provides classes for working with dates and times.\n",
        "\n",
        "14. **Objects**: Custom data types created using classes.\n",
        "\n",
        "These are the most common data types in Python, and each has its own set of methods and functions that can be used to manipulate and work with the data.\n"
      ],
      "metadata": {
        "id": "9NgLsbcO1afi"
      },
      "id": "9NgLsbcO1afi"
    },
    {
      "cell_type": "code",
      "execution_count": null,
      "id": "2d88a7fe",
      "metadata": {
        "id": "2d88a7fe"
      },
      "outputs": [],
      "source": [
        "#\n",
        "import numpy as np\n",
        "import pandas as pd\n",
        "import math"
      ]
    },
    {
      "cell_type": "markdown",
      "id": "9a84a805-69ec-4d07-bb03-4eef45dcece0",
      "metadata": {
        "id": "9a84a805-69ec-4d07-bb03-4eef45dcece0"
      },
      "source": [
        "**Numbers**\n",
        "There are two types of numbers: `int` and `float`. `int` is an integer and `float` is a number with a decimal point. In Python3, you can combine both types of numbers in the calculation without it causing any errors. \n",
        "\n",
        "Python operations:\n",
        "- Addition: x + y\n",
        "- Subtraction: x - y\n",
        "- Multiplication: x * y\n",
        "- Division: x /y \n",
        "- Modulus: x % y\n",
        "- Exponetiation: x ** y\n",
        "- Floor division: x // y "
      ]
    },
    {
      "cell_type": "code",
      "execution_count": null,
      "id": "a5515b79",
      "metadata": {
        "colab": {
          "base_uri": "https://localhost:8080/"
        },
        "id": "a5515b79",
        "outputId": "366288af-32c0-4b50-ca65-6dd87d282b8a"
      },
      "outputs": [
        {
          "output_type": "execute_result",
          "data": {
            "text/plain": [
              "5"
            ]
          },
          "metadata": {},
          "execution_count": 3
        }
      ],
      "source": [
        "# \n",
        "2+3"
      ]
    },
    {
      "cell_type": "code",
      "source": [
        "#\n",
        "2.0+3"
      ],
      "metadata": {
        "colab": {
          "base_uri": "https://localhost:8080/"
        },
        "id": "DOD7fn0N2xES",
        "outputId": "077622c8-3cc2-4174-9d33-9d7f36510472"
      },
      "id": "DOD7fn0N2xES",
      "execution_count": null,
      "outputs": [
        {
          "output_type": "execute_result",
          "data": {
            "text/plain": [
              "5.0"
            ]
          },
          "metadata": {},
          "execution_count": 4
        }
      ]
    },
    {
      "cell_type": "code",
      "source": [
        "#\n",
        "4/2"
      ],
      "metadata": {
        "colab": {
          "base_uri": "https://localhost:8080/"
        },
        "id": "2t3TU2O22y2C",
        "outputId": "1b3b7053-1e3e-4303-cdd3-1a2f646c9bb2"
      },
      "id": "2t3TU2O22y2C",
      "execution_count": null,
      "outputs": [
        {
          "output_type": "execute_result",
          "data": {
            "text/plain": [
              "2.0"
            ]
          },
          "metadata": {},
          "execution_count": 5
        }
      ]
    },
    {
      "cell_type": "code",
      "source": [
        "#\n",
        "7//2"
      ],
      "metadata": {
        "colab": {
          "base_uri": "https://localhost:8080/"
        },
        "id": "jTO4pnab22D8",
        "outputId": "bc2499ff-fb14-480d-b5fb-f996a0c48de2"
      },
      "id": "jTO4pnab22D8",
      "execution_count": null,
      "outputs": [
        {
          "output_type": "execute_result",
          "data": {
            "text/plain": [
              "3"
            ]
          },
          "metadata": {},
          "execution_count": 6
        }
      ]
    },
    {
      "cell_type": "code",
      "source": [
        "# \n",
        "g = 10\n",
        "g*4"
      ],
      "metadata": {
        "colab": {
          "base_uri": "https://localhost:8080/"
        },
        "id": "b3MS8FDf3l_G",
        "outputId": "3410cbcc-81cf-44a7-f96e-e28e1a80efa6"
      },
      "id": "b3MS8FDf3l_G",
      "execution_count": null,
      "outputs": [
        {
          "output_type": "execute_result",
          "data": {
            "text/plain": [
              "40"
            ]
          },
          "metadata": {},
          "execution_count": 7
        }
      ]
    },
    {
      "cell_type": "markdown",
      "source": [
        "**Strings**\n",
        "A string contains textual information. It read all data within the quotations as a text (either single or double quotation). "
      ],
      "metadata": {
        "id": "uom7mSL13y6N"
      },
      "id": "uom7mSL13y6N"
    },
    {
      "cell_type": "code",
      "source": [
        "\"Hello world\""
      ],
      "metadata": {
        "colab": {
          "base_uri": "https://localhost:8080/",
          "height": 35
        },
        "id": "1VxDvHNo4PsK",
        "outputId": "8a7cb735-c0ec-4bc5-9a73-61f5f02652c9"
      },
      "id": "1VxDvHNo4PsK",
      "execution_count": null,
      "outputs": [
        {
          "output_type": "execute_result",
          "data": {
            "text/plain": [
              "'Hello world'"
            ],
            "application/vnd.google.colaboratory.intrinsic+json": {
              "type": "string"
            }
          },
          "metadata": {},
          "execution_count": 8
        }
      ]
    },
    {
      "cell_type": "code",
      "source": [
        "#\n",
        "name = \"Your name\"\n",
        "name"
      ],
      "metadata": {
        "id": "BIdooEly4STW",
        "colab": {
          "base_uri": "https://localhost:8080/",
          "height": 35
        },
        "outputId": "4473c9d1-23a7-400c-cd86-c9a968db6948"
      },
      "id": "BIdooEly4STW",
      "execution_count": null,
      "outputs": [
        {
          "output_type": "execute_result",
          "data": {
            "text/plain": [
              "'Your name'"
            ],
            "application/vnd.google.colaboratory.intrinsic+json": {
              "type": "string"
            }
          },
          "metadata": {},
          "execution_count": 9
        }
      ]
    },
    {
      "cell_type": "markdown",
      "source": [
        "As mentioned before, you can use either double or single quotation marks. The benefit of the double quotation is when the text already contains single quotation. However, there are escaper characters denoted by a \\\\."
      ],
      "metadata": {
        "id": "Ksg_3O2L4bKi"
      },
      "id": "Ksg_3O2L4bKi"
    },
    {
      "cell_type": "code",
      "source": [
        "print(\"Joe's\")\n",
        "print('Joe\\'s')"
      ],
      "metadata": {
        "colab": {
          "base_uri": "https://localhost:8080/"
        },
        "id": "CP7LRvGN4uJE",
        "outputId": "85afeb45-bfad-4a7a-fb6f-8e7d1d0bcf9d"
      },
      "id": "CP7LRvGN4uJE",
      "execution_count": null,
      "outputs": [
        {
          "output_type": "stream",
          "name": "stdout",
          "text": [
            "Joe's\n",
            "Joe's\n"
          ]
        }
      ]
    },
    {
      "cell_type": "code",
      "source": [
        "#\n",
        "'Joe's'"
      ],
      "metadata": {
        "colab": {
          "base_uri": "https://localhost:8080/",
          "height": 130
        },
        "id": "rnGiIt9y4v0s",
        "outputId": "7e39d8ad-0c18-40eb-dbba-19bddc297299"
      },
      "id": "rnGiIt9y4v0s",
      "execution_count": null,
      "outputs": [
        {
          "output_type": "error",
          "ename": "SyntaxError",
          "evalue": "ignored",
          "traceback": [
            "\u001b[0;36m  File \u001b[0;32m\"<ipython-input-11-d81cc5f919ce>\"\u001b[0;36m, line \u001b[0;32m2\u001b[0m\n\u001b[0;31m    'Joe's'\u001b[0m\n\u001b[0m         ^\u001b[0m\n\u001b[0;31mSyntaxError\u001b[0m\u001b[0;31m:\u001b[0m invalid syntax\n"
          ]
        }
      ]
    },
    {
      "cell_type": "code",
      "source": [
        "#\n",
        "print(\"2+3\")\n",
        "print(2+3)"
      ],
      "metadata": {
        "id": "GAc7-yYI4-x9"
      },
      "id": "GAc7-yYI4-x9",
      "execution_count": null,
      "outputs": []
    },
    {
      "cell_type": "code",
      "source": [
        "#\n",
        "get_ipython().run_line_magic('pinfo', 'str.lower')"
      ],
      "metadata": {
        "id": "3JLvS_675J8z"
      },
      "id": "3JLvS_675J8z",
      "execution_count": null,
      "outputs": []
    },
    {
      "cell_type": "code",
      "source": [
        "# \n",
        "name = name.lower()\n",
        "name"
      ],
      "metadata": {
        "id": "b5gKbV5u5icw"
      },
      "id": "b5gKbV5u5icw",
      "execution_count": null,
      "outputs": []
    },
    {
      "cell_type": "markdown",
      "source": [
        "**Booleans** can only take `True` or `False` values. They represent the \"truth\" in a logical expression and can help us answer questions that require a yes (1) or no (0) response whenever a given condition is or is not met."
      ],
      "metadata": {
        "id": "eebxPOh_51BU"
      },
      "id": "eebxPOh_51BU"
    },
    {
      "cell_type": "code",
      "source": [
        "#\n",
        "type(True & False)"
      ],
      "metadata": {
        "id": "qPnyGt8P6Rw1"
      },
      "id": "qPnyGt8P6Rw1",
      "execution_count": null,
      "outputs": []
    },
    {
      "cell_type": "code",
      "source": [
        "#\n",
        "False == 0"
      ],
      "metadata": {
        "id": "IwLxwTP06ZmR"
      },
      "id": "IwLxwTP06ZmR",
      "execution_count": null,
      "outputs": []
    },
    {
      "cell_type": "markdown",
      "source": [
        "Boolean operations: \n",
        "- (==) Equal\n",
        "- (!=) Not equal\n",
        "- (>) Greater than\n",
        "- (<) Less than\n",
        "- (>=) Greater than or equal to \n",
        "- (<=) Less than or equal to"
      ],
      "metadata": {
        "id": "4qneSSlJ6jed"
      },
      "id": "4qneSSlJ6jed"
    },
    {
      "cell_type": "code",
      "source": [
        "#\n",
        "x = 5\n",
        "y = 10\n",
        "\n",
        "# \n",
        "x == y"
      ],
      "metadata": {
        "id": "QhIADltm6if4"
      },
      "id": "QhIADltm6if4",
      "execution_count": null,
      "outputs": []
    },
    {
      "cell_type": "code",
      "source": [
        "x < y"
      ],
      "metadata": {
        "id": "3T8vwsjU7PFZ"
      },
      "id": "3T8vwsjU7PFZ",
      "execution_count": null,
      "outputs": []
    },
    {
      "cell_type": "markdown",
      "source": [
        "**Lists** is a data type that allows you to save multiple type of information. They can contain different data type. "
      ],
      "metadata": {
        "id": "hxEzN2397Thn"
      },
      "id": "hxEzN2397Thn"
    },
    {
      "cell_type": "code",
      "source": [
        "#\n",
        "ls = []\n",
        "ls"
      ],
      "metadata": {
        "id": "OIbFxY9l7rxY"
      },
      "id": "OIbFxY9l7rxY",
      "execution_count": null,
      "outputs": []
    },
    {
      "cell_type": "code",
      "source": [
        "#\n",
        "ls = [2, \"name\", 3, [5,6,7], \"UCSD\"]\n",
        "ls"
      ],
      "metadata": {
        "id": "NjwPjl0A7yRC"
      },
      "id": "NjwPjl0A7yRC",
      "execution_count": null,
      "outputs": []
    },
    {
      "cell_type": "code",
      "source": [
        "#\n",
        "ls[0]"
      ],
      "metadata": {
        "id": "hvmmD8UI8tXv"
      },
      "id": "hvmmD8UI8tXv",
      "execution_count": null,
      "outputs": []
    },
    {
      "cell_type": "code",
      "source": [
        "#\n",
        "ls[3][2]"
      ],
      "metadata": {
        "id": "SONdgV2y86Fu"
      },
      "id": "SONdgV2y86Fu",
      "execution_count": null,
      "outputs": []
    },
    {
      "cell_type": "code",
      "source": [
        "#\n",
        "ls[0] = 10\n",
        "ls"
      ],
      "metadata": {
        "id": "RsuJIEYB9BVY"
      },
      "id": "RsuJIEYB9BVY",
      "execution_count": null,
      "outputs": []
    },
    {
      "cell_type": "markdown",
      "source": [
        "Some useful built-in function for list:\n",
        "- `append`: add element to the end of the list\n",
        "- `insert`: add element at a specific position in the list\n",
        "- `len`: count the number of objects in the list\n",
        "- `pop`: remove the last element by default, or remove a specific index\n",
        "- `remove`: remove the exact values in the list"
      ],
      "metadata": {
        "id": "QuyhOBKf9Rea"
      },
      "id": "QuyhOBKf9Rea"
    },
    {
      "cell_type": "code",
      "source": [
        "#\n",
        "ls.append(\"Nice University\")\n",
        "ls"
      ],
      "metadata": {
        "id": "VBxsofA6-bRF"
      },
      "id": "VBxsofA6-bRF",
      "execution_count": null,
      "outputs": []
    },
    {
      "cell_type": "code",
      "source": [
        "#\n",
        "ls.insert(5, \"Is A\")\n",
        "ls"
      ],
      "metadata": {
        "id": "qGMraHLz-hd7"
      },
      "id": "qGMraHLz-hd7",
      "execution_count": null,
      "outputs": []
    },
    {
      "cell_type": "code",
      "source": [
        "#\n",
        "len(ls)"
      ],
      "metadata": {
        "id": "AxIzUKPl-8C0"
      },
      "id": "AxIzUKPl-8C0",
      "execution_count": null,
      "outputs": []
    },
    {
      "cell_type": "code",
      "source": [
        "#\n",
        "ls.pop()\n",
        "ls"
      ],
      "metadata": {
        "id": "e0ZZJQUU_A3D"
      },
      "id": "e0ZZJQUU_A3D",
      "execution_count": null,
      "outputs": []
    },
    {
      "cell_type": "code",
      "source": [
        "#\n",
        "ls.remove('Is A')\n",
        "ls"
      ],
      "metadata": {
        "id": "gKldD83O_Gje"
      },
      "id": "gKldD83O_Gje",
      "execution_count": null,
      "outputs": []
    },
    {
      "cell_type": "markdown",
      "source": [
        "**Arrays** is similar to list, but only allows for one type of information to be saved in them. They are most useful when you want to have a set of the same type of data so that you can easily modify together."
      ],
      "metadata": {
        "id": "8EcS-gIN_Q8m"
      },
      "id": "8EcS-gIN_Q8m"
    },
    {
      "cell_type": "code",
      "source": [
        "#\n",
        "array = [0, 1, 2, 3, 4, 5, 6]"
      ],
      "metadata": {
        "id": "QDSsJtwB_8yI"
      },
      "id": "QDSsJtwB_8yI",
      "execution_count": null,
      "outputs": []
    },
    {
      "cell_type": "code",
      "source": [
        "#\n",
        "array[2]"
      ],
      "metadata": {
        "id": "VJ6bhimpABUd"
      },
      "id": "VJ6bhimpABUd",
      "execution_count": null,
      "outputs": []
    },
    {
      "cell_type": "markdown",
      "source": [
        "**Tuples** look and behave similarly to arrays, but they cannot be modified. It can be used to store data that shouldn't be modified under any circumstances. "
      ],
      "metadata": {
        "id": "lkm1IeOVAY_W"
      },
      "id": "lkm1IeOVAY_W"
    },
    {
      "cell_type": "code",
      "source": [
        "#\n",
        "tup = tuple([2,3,4])\n",
        "tup"
      ],
      "metadata": {
        "id": "kbMhwBnKAwms"
      },
      "id": "kbMhwBnKAwms",
      "execution_count": null,
      "outputs": []
    },
    {
      "cell_type": "code",
      "source": [
        "#\n",
        "tup[1]"
      ],
      "metadata": {
        "id": "muTGEu_BA0uH"
      },
      "id": "muTGEu_BA0uH",
      "execution_count": null,
      "outputs": []
    },
    {
      "cell_type": "code",
      "source": [
        "#\n",
        "tup[1] = 5"
      ],
      "metadata": {
        "id": "DSOPt38kA2lb"
      },
      "id": "DSOPt38kA2lb",
      "execution_count": null,
      "outputs": []
    },
    {
      "cell_type": "markdown",
      "source": [
        "**Dictionaries** is a collection of unordered and indexable data types. It is a powerful data structure because data is stored as key-value pairs. Keys act as \"labels\" for the data you want to reresent. It is very fast compared to iterating through a list."
      ],
      "metadata": {
        "id": "2DGJVIfjA_gv"
      },
      "id": "2DGJVIfjA_gv"
    },
    {
      "cell_type": "code",
      "source": [
        "# \n",
        "data = {\"ecutwfc\":[12, 14, 16, 18, 20, 22, 24, 26, 28], \n",
        "        \"total energy (Ry)\":[-15.72103297, -15.73286882, -15.73805663, -15.73997748, -15.74073755, -15.74104964, -15.74118467, -15.74124723, -15.74128342]}\n",
        "data"
      ],
      "metadata": {
        "id": "zLqF_nbMBdSG"
      },
      "id": "zLqF_nbMBdSG",
      "execution_count": null,
      "outputs": []
    },
    {
      "cell_type": "code",
      "source": [
        "#\n",
        "global_data = {\n",
        "    \"Trial 1\" : {\n",
        "        \"ecutwfc\":[12, 14, 16, 18, 20, 22, 24, 26, 28], \n",
        "        \"total energy (Ry)\":[-15.72103297, -15.73286882, -15.73805663, -15.73997748, -15.74073755, -15.74104964, -15.74118467, -15.74124723, -15.74128342]\n",
        "    },\n",
        "    \"Trial 2\" : {\n",
        "        \"ecutwfc\":[13, 15, 17, 19, 21, 23, 25, 27, 29], \n",
        "        \"total energy (Ry)\":[-15.72103297, -15.73286882, -15.73805663, -15.73997748, -15.74073755, -15.74104964, -15.74118467, -15.74124723, -15.74128342]\n",
        "    },\n",
        "    \"Trial 3\" : {\n",
        "        \"ecutwfc\":[14, 16, 18, 20, 22, 24, 26, 28, 30], \n",
        "        \"total energy (Ry)\":[-15.72103297, -15.73286882, -15.73805663, -15.73997748, -15.74073755, -15.74104964, -15.74118467, -15.74124723, -15.74128342]\n",
        "    }\n",
        "}\n",
        "global_data"
      ],
      "metadata": {
        "id": "zWTEA2MwB3_3"
      },
      "id": "zWTEA2MwB3_3",
      "execution_count": null,
      "outputs": []
    },
    {
      "cell_type": "markdown",
      "source": [
        "To access elements within a `dict`, you can use the bracket notatation like that of `list` or `array`, but instead of specifying the index position of the value you want to manipulate, for `dict` you have to specify the key. "
      ],
      "metadata": {
        "id": "HbVUM4ztCj6Q"
      },
      "id": "HbVUM4ztCj6Q"
    },
    {
      "cell_type": "code",
      "source": [
        "#\n",
        "global_data[\"Trial 1\"]"
      ],
      "metadata": {
        "id": "b06IbTGBC39T"
      },
      "id": "b06IbTGBC39T",
      "execution_count": null,
      "outputs": []
    },
    {
      "cell_type": "code",
      "source": [
        "#\n",
        "global_data[\"Trial 1\"][\"ecutwfc\"]"
      ],
      "metadata": {
        "id": "0o1lfirtDGo8"
      },
      "id": "0o1lfirtDGo8",
      "execution_count": null,
      "outputs": []
    },
    {
      "cell_type": "code",
      "source": [
        "#\n",
        "global_data[\"Trial 4\"] = \"No reliable data collected\"\n",
        "global_data"
      ],
      "metadata": {
        "id": "dZ_acnyQDPit"
      },
      "id": "dZ_acnyQDPit",
      "execution_count": null,
      "outputs": []
    },
    {
      "cell_type": "markdown",
      "source": [
        "Some useful built-in functions for `dict`:\n",
        "- items(): helps you see the content in the dictionary. *Useful for when you are trying to loop or iterate over a dictionary using the key-value pairs.\n",
        "- keys(): access only the keys\n",
        "- values(): access only the values"
      ],
      "metadata": {
        "id": "pKxKH0n5DZi4"
      },
      "id": "pKxKH0n5DZi4"
    },
    {
      "cell_type": "code",
      "source": [
        "#\n",
        "data.items()"
      ],
      "metadata": {
        "id": "Epmarnb4D8LI"
      },
      "id": "Epmarnb4D8LI",
      "execution_count": null,
      "outputs": []
    },
    {
      "cell_type": "code",
      "source": [
        "#\n",
        "data.keys()"
      ],
      "metadata": {
        "id": "M4QZz5mTEA03"
      },
      "id": "M4QZz5mTEA03",
      "execution_count": null,
      "outputs": []
    },
    {
      "cell_type": "code",
      "source": [
        "#\n",
        "data.values()"
      ],
      "metadata": {
        "id": "zP9rpLEBEGoO"
      },
      "id": "zP9rpLEBEGoO",
      "execution_count": null,
      "outputs": []
    },
    {
      "cell_type": "markdown",
      "source": [
        "# Conditional statements and Loops"
      ],
      "metadata": {
        "id": "irNgP3iWEYJF"
      },
      "id": "irNgP3iWEYJF"
    },
    {
      "cell_type": "markdown",
      "source": [
        "Similar to MATLAB, Python has if/elseif/else, for, and while loop"
      ],
      "metadata": {
        "id": "eAUGlS92EsIT"
      },
      "id": "eAUGlS92EsIT"
    },
    {
      "cell_type": "markdown",
      "source": [
        "**Conditional statements** work by first evaluating the header expression (the line with `if`). If the statement is true, then execute the condition, otherwise, check the next condition `elif` and so on. \n",
        "\n",
        "You can have as many `elif` as you want, but you can only have one `if` and one `else` statement. `else` always comes at the end. You do not always need an `else` condition. "
      ],
      "metadata": {
        "id": "y34hu5xAFE0o"
      },
      "id": "y34hu5xAFE0o"
    },
    {
      "cell_type": "code",
      "source": [
        "#\n",
        "if 5 < 6:\n",
        "    print(\"True. 5 is less than 6!\")\n",
        "elif 5 == 6:\n",
        "    print (\" Huh. How is 5 equal to 6??\")\n",
        "else: \n",
        "    print(\"Huh. How is 5 greater than 6?\")"
      ],
      "metadata": {
        "id": "FxLToY1QErUM"
      },
      "id": "FxLToY1QErUM",
      "execution_count": null,
      "outputs": []
    },
    {
      "cell_type": "markdown",
      "source": [
        "**Loops** goes through a collection of data and executes some user-specified action for each value in that collection of data. \n",
        "\n",
        "It is very useful when we want to perform some operation on a list or tuple but doing it on each element is too tedious. "
      ],
      "metadata": {
        "id": "rgy56ofVGMds"
      },
      "id": "rgy56ofVGMds"
    },
    {
      "cell_type": "code",
      "source": [
        "#\n",
        "for x in range(10):\n",
        "    print(x**2)"
      ],
      "metadata": {
        "id": "O8N0VFREGnjL"
      },
      "id": "O8N0VFREGnjL",
      "execution_count": null,
      "outputs": []
    },
    {
      "cell_type": "code",
      "source": [
        "#\n",
        "radiuses = [1, 3, 5, 7, 9]\n",
        "\n",
        "for radius in radiuses: \n",
        "    area = math.pi*radius**2\n",
        "    print(area)\n",
        "    \n",
        "area"
      ],
      "metadata": {
        "id": "9DjLpDONG-OI"
      },
      "id": "9DjLpDONG-OI",
      "execution_count": null,
      "outputs": []
    },
    {
      "cell_type": "markdown",
      "source": [
        "A while loop runs the condition until the expression becomes `false`. An `else` clause can be added to specfiy the condition when the loop becomes `false`.  "
      ],
      "metadata": {
        "id": "lICtzsFeHdyi"
      },
      "id": "lICtzsFeHdyi"
    },
    {
      "cell_type": "code",
      "source": [
        "#\n",
        "x = 10\n",
        "while x:\n",
        "    print(x)\n",
        "    x = x - 1\n",
        "else:\n",
        "    print('Done with my countdown!')"
      ],
      "metadata": {
        "id": "cuzBr5HjHrWK"
      },
      "id": "cuzBr5HjHrWK",
      "execution_count": null,
      "outputs": []
    },
    {
      "cell_type": "markdown",
      "source": [
        "# Defining functions"
      ],
      "metadata": {
        "id": "yyvaS1TfHxfH"
      },
      "id": "yyvaS1TfHxfH"
    },
    {
      "cell_type": "markdown",
      "source": [
        "Python have a lot of default functions, in addition to the huge amount of functions available through libraries. If there exists a function that can carry out the specific task you are looking to do, then use the existing function. \n",
        "\n",
        "However, often times, what you are looking to do is more specific and contains logics that are appropriate to only your use-case. An essential aspect of programming as a whole is the ability to define functions that can do what you want it to do. It is important for several reasons:\n",
        "- **Code reusability**: Defining a function allows you to reuse code multiple times without having to write the same code repeatedly. This helps to save time and effort, and it also makes your code more readable and maintainable.\n",
        "\n",
        "- **Modularity**: Functions allow you to break down a large program into smaller, more manageable pieces. This makes your code easier to read, test, and debug. It also allows multiple developers to work on different parts of the codebase simultaneously, which can speed up development time.\n",
        "\n",
        "- **Abstraction**: Functions abstract away implementation details, allowing you to focus on the functionality that you want to achieve. This makes your code more concise and easier to understand.\n",
        "\n",
        "- **Encapsulation**: Functions can encapsulate variables and logic, which helps to prevent unintended side effects and makes your code more robust.\n",
        "\n",
        "- **Testing**: Functions are easy to test, which makes it easier to catch bugs and ensure that your code is working correctly."
      ],
      "metadata": {
        "id": "9abqojy-IQy1"
      },
      "id": "9abqojy-IQy1"
    },
    {
      "cell_type": "code",
      "source": [
        "# \n",
        "def square(x):\n",
        "    return x**2\n",
        "\n",
        "a = square(3)\n",
        "a"
      ],
      "metadata": {
        "id": "VedMTUTTeGCa"
      },
      "id": "VedMTUTTeGCa",
      "execution_count": null,
      "outputs": []
    },
    {
      "cell_type": "code",
      "source": [
        "# \n",
        "def mult_not_eq(x, y):\n",
        "    # if the first number is not equal to the second\n",
        "    if x!=y:\n",
        "    # I will multiply them\n",
        "        return x*y\n",
        "    else:\n",
        "        print(\"Use the square function instead\")\n",
        "        \n",
        "mult_not_eq(2, 2)"
      ],
      "metadata": {
        "id": "BeADkMZrdo2D"
      },
      "id": "BeADkMZrdo2D",
      "execution_count": null,
      "outputs": []
    },
    {
      "cell_type": "code",
      "source": [],
      "metadata": {
        "id": "Z5TwUnqvF0_u"
      },
      "id": "Z5TwUnqvF0_u",
      "execution_count": null,
      "outputs": []
    },
    {
      "cell_type": "markdown",
      "source": [
        "# Classes and Objects\n",
        "Classes and objects are a part of a programming paradigm known as Object Oriented Programming, or OOP. \n",
        "\n",
        "Objects are a way to organize data through the use of **attributes** and **methods**. **Anything** can be modeled as an object. Let's begin by making a 'Dog' class to simulate a dog.\n",
        "\n",
        "If you have ever played DnD or any RPG game, think of classes like classes i.e. archer, rogue, fighter, and think of \"instances\" as your character."
      ],
      "metadata": {
        "id": "gzRVXsBzEJ2z"
      },
      "id": "gzRVXsBzEJ2z"
    },
    {
      "cell_type": "code",
      "source": [
        "class Student():\n",
        "    # Initializer/Constructor allows us to \"initialize\" instance specific attributes of our object.\n",
        "    # leading and trailing double underscores indicates that this is special to Python\n",
        "    # We also have a special key-word, \"self\" designated for objects only.\n",
        "    # This variable represents the \"instance\" of this class of objects\n",
        "    def __init__(self,name,year,major):\n",
        "        self.name = name\n",
        "        self.year = year\n",
        "        self.major = major\n",
        "    \n",
        "    # Our first method. A class can have functions within itself. Just like real objects, classes can do things, and depending on the properties'\n",
        "    # of that instance of a class, it can change. Just like how different students do different things.\n",
        "    # The self keyword here lets us print the attributes of the instance of the object\n",
        "    def introduce_self(self):\n",
        "        print(f\"Hi my name is {self.name}, and I am a year {self.year} {self.major} student.\")\n",
        "        \n"
      ],
      "metadata": {
        "id": "8TrbAW5hGNu-"
      },
      "id": "8TrbAW5hGNu-",
      "execution_count": null,
      "outputs": []
    },
    {
      "cell_type": "code",
      "source": [
        "# Lets create an instance of a student. Representing me.\n",
        "ethan = Student(name=\"Ethan\", year = 3, major = \"NanoEngineering\")\n",
        "ethan.introduce_self()\n",
        "print(ethan.name)\n",
        "\n",
        "# Lets do it again.\n",
        "mai = Student(name=\"Mai\", year = 4, major = \"NanoEngineering\")\n",
        "mai.introduce_self()\n",
        "print(mai.name)\n",
        "\n",
        "# Although they are both \"instances\" of students they are not the same. Think of classes as a blueprint to create different objects.\n",
        "print(str(mai==ethan))\n",
        "\n",
        "# However, the two variables both are an object type (class) of student. So this returns true.\n",
        "print(type(mai) == type(ethan))"
      ],
      "metadata": {
        "colab": {
          "base_uri": "https://localhost:8080/"
        },
        "id": "JWAHU0rGXCwb",
        "outputId": "85e6b597-1130-4cbd-e209-6e682bf99b4b"
      },
      "id": "JWAHU0rGXCwb",
      "execution_count": null,
      "outputs": [
        {
          "output_type": "stream",
          "name": "stdout",
          "text": [
            "Hi my name is Ethan, and I am a year 3 NanoEngineering student.\n",
            "Ethan\n",
            "Hi my name is Mai, and I am a year 4 NanoEngineering student.\n",
            "Mai\n",
            "False\n",
            "True\n"
          ]
        }
      ]
    },
    {
      "cell_type": "code",
      "source": [
        "# Our second class: Food. This will be an introduction to the concept of a super class. Our RPG/DnD analogy -- think of the super class as lets say Mage, and classes within the super class as sub-classes like Fire-Mage.\n",
        "# Food is a general catagory of objects, and lets say tomato, banana, meat, are classes of objects within that superclass.\n",
        "# Our food object is going to have some attributes\n",
        "class Food():\n",
        "    \n",
        "    def __init__(self, type_of_food = \"Mystery Food\", healthy = False, isEaten = False):\n",
        "        self.typeOfFood = type_of_food\n",
        "        self.healthy = healthy\n",
        "        self.isEaten = isEaten\n",
        "\n",
        "\n"
      ],
      "metadata": {
        "id": "0MZ4tOF8IP7-"
      },
      "id": "0MZ4tOF8IP7-",
      "execution_count": null,
      "outputs": []
    },
    {
      "cell_type": "code",
      "source": [
        "# Our Third, Fourth, and Fifth Class, lets use our food superclass to make a Tomato, Banana, and  Bean-And-Cheese-Burrito.\n",
        "\n",
        "class Tomato(Food):\n",
        "    \n",
        "    def __init__(self, type_of_food = 'Tomato', healthy = True):\n",
        "        super().__init__(type_of_food, healthy)\n",
        "        \n",
        "class Banana(Food):\n",
        "    def __init__(self, type_of_food = 'Banana', healthy = True):\n",
        "        super().__init__(type_of_food, healthy)\n",
        "\n",
        "class BeanAndCheeseBurrito(Food):\n",
        "    def __init__(self, type_of_food = 'Bean and Cheese Burrito', healthy = False):\n",
        "        super().__init__(type_of_food, healthy)"
      ],
      "metadata": {
        "id": "H925FwLwUS1S"
      },
      "id": "H925FwLwUS1S",
      "execution_count": null,
      "outputs": []
    },
    {
      "cell_type": "code",
      "source": [
        "# Our Sixth class will be a dog that can eat food and do other things like dogs do in real life.\n",
        "class Dog():\n",
        "    \n",
        "    sound = 'Woof'\n",
        "    \n",
        "    # Initializer/Constructor allows us to \"initialize\" instance specific attributes of our object.\n",
        "    # leading and trailing double underscores indicates that this is special to Python\n",
        "    def __init__(self,name, isHungry = True):\n",
        "        self.name = name\n",
        "        self.isHungry = True\n",
        "\n",
        "    # Method 1: Print out the sound the dog makes.\n",
        "    def speak(self):\n",
        "        print(self.sound)\n",
        "\n",
        "    # Method 2: Change the sound to something else.\n",
        "    def setSound(self,snd):\n",
        "        self.sound = snd\n",
        "    \n",
        "    # Method 3: Eat some food. Only excepts food objects to eat. Dogs cannot eat numbers, or letters!\n",
        "    def eatFood(self, food : Food):\n",
        "      if self.isHungry:\n",
        "          if food.healthy == True:\n",
        "            print(f\"Nom Nom Nom, the {food.typeOfFood} was delicious and nutritious\")\n",
        "          elif food.healthy == False:\n",
        "            print(f\"Nom Nom Nom, the {food.typeOfFood} was no yummy for me tummy.\")\n",
        "          food.isEaten = True\n",
        "          \n",
        "          self.isHungry = False\n",
        "      else:\n",
        "          print(\"i am not hungry soz\")\n",
        "\n",
        "    def goWalk(self):\n",
        "        self.isHungry = True\n",
        "        "
      ],
      "metadata": {
        "id": "o6PgNYnYWHCL"
      },
      "id": "o6PgNYnYWHCL",
      "execution_count": null,
      "outputs": []
    },
    {
      "cell_type": "code",
      "source": [
        "# Lets create an \"instance\" of a dog.\n",
        "\n",
        "barky = Dog(name = \"barky\")"
      ],
      "metadata": {
        "id": "ioCGS7NdmbBJ"
      },
      "execution_count": null,
      "outputs": [],
      "id": "ioCGS7NdmbBJ"
    },
    {
      "cell_type": "code",
      "source": [
        "#Lets make some food\n",
        "\n",
        "tomato = Tomato()"
      ],
      "metadata": {
        "id": "uDh9JyrGmhMQ"
      },
      "id": "uDh9JyrGmhMQ",
      "execution_count": null,
      "outputs": []
    },
    {
      "cell_type": "code",
      "source": [
        "#barky is hungry\n",
        "print(f\"Is Barky hungry? {barky.isHungry}\")"
      ],
      "metadata": {
        "colab": {
          "base_uri": "https://localhost:8080/"
        },
        "id": "ExkVWk-kmjKr",
        "outputId": "50714ae2-197a-48a8-a722-ee2c8d1d88ee"
      },
      "id": "ExkVWk-kmjKr",
      "execution_count": null,
      "outputs": [
        {
          "output_type": "stream",
          "name": "stdout",
          "text": [
            "Is Barky hungry? True\n"
          ]
        }
      ]
    },
    {
      "cell_type": "code",
      "source": [
        "#barky eat food. Object methods can take other objects as input.\n",
        "barky.eatFood(tomato)"
      ],
      "metadata": {
        "colab": {
          "base_uri": "https://localhost:8080/"
        },
        "id": "DbttPDThml0p",
        "outputId": "3c7fa283-593a-4753-bfc5-e6ba9dfb7283"
      },
      "id": "DbttPDThml0p",
      "execution_count": null,
      "outputs": [
        {
          "output_type": "stream",
          "name": "stdout",
          "text": [
            "Nom Nom Nom, the Tomato was delicious and nutritious\n"
          ]
        }
      ]
    },
    {
      "cell_type": "code",
      "source": [
        "#barky is no longer hungry\n",
        "print(f\"Is Barky hungry? {barky.isHungry}\")"
      ],
      "metadata": {
        "colab": {
          "base_uri": "https://localhost:8080/"
        },
        "id": "yjIcw5kdmn9h",
        "outputId": "97f35888-5631-475f-9ebf-85f3adca2e74"
      },
      "id": "yjIcw5kdmn9h",
      "execution_count": null,
      "outputs": [
        {
          "output_type": "stream",
          "name": "stdout",
          "text": [
            "Is Barky hungry? False\n"
          ]
        }
      ]
    },
    {
      "cell_type": "code",
      "source": [
        "#now make bean and cheese burrito\n",
        "\n",
        "burrito = BeanAndCheeseBurrito()"
      ],
      "metadata": {
        "id": "JXhKkyEFmp7S"
      },
      "id": "JXhKkyEFmp7S",
      "execution_count": null,
      "outputs": []
    },
    {
      "cell_type": "code",
      "source": [
        "#try to feed barky\n",
        "barky.eatFood(burrito)"
      ],
      "metadata": {
        "colab": {
          "base_uri": "https://localhost:8080/"
        },
        "id": "Wcu2DX77msV2",
        "outputId": "66b36a43-9272-4c2a-e5e1-5a47e04baa95"
      },
      "id": "Wcu2DX77msV2",
      "execution_count": null,
      "outputs": [
        {
          "output_type": "stream",
          "name": "stdout",
          "text": [
            "i am not hungry soz\n"
          ]
        }
      ]
    },
    {
      "cell_type": "code",
      "source": [
        "# oh no barky not hungry so he doesnt eat, lets make him hungry by taking him on a walk.\n",
        "\n",
        "#now barky go for walk\n",
        "barky.goWalk()"
      ],
      "metadata": {
        "id": "acGBJ4g2mw_0"
      },
      "id": "acGBJ4g2mw_0",
      "execution_count": null,
      "outputs": []
    },
    {
      "cell_type": "code",
      "source": [
        "#barky hungry again now\n",
        "print(f\"Is Barky hungry? {barky.isHungry}\")"
      ],
      "metadata": {
        "colab": {
          "base_uri": "https://localhost:8080/"
        },
        "id": "pWvf3PRrmxtt",
        "outputId": "c359475e-6707-49d3-a4b8-c72c3e5c3dc0"
      },
      "id": "pWvf3PRrmxtt",
      "execution_count": null,
      "outputs": [
        {
          "output_type": "stream",
          "name": "stdout",
          "text": [
            "Is Barky hungry? True\n"
          ]
        }
      ]
    },
    {
      "cell_type": "code",
      "source": [
        "# try to feed barky again\n",
        "barky.eatFood(burrito)"
      ],
      "metadata": {
        "colab": {
          "base_uri": "https://localhost:8080/"
        },
        "id": "n9YbEB_Qm0q_",
        "outputId": "18aa6e23-e624-4ade-e238-63021519e228"
      },
      "id": "n9YbEB_Qm0q_",
      "execution_count": null,
      "outputs": [
        {
          "output_type": "stream",
          "name": "stdout",
          "text": [
            "Nom Nom Nom, the Bean and Cheese Burrito was no yummy for me tummy.\n"
          ]
        }
      ]
    },
    {
      "cell_type": "code",
      "source": [
        "#lets see what sound barky can make\n",
        "print(barky.sound)"
      ],
      "metadata": {
        "colab": {
          "base_uri": "https://localhost:8080/"
        },
        "id": "a8RckmF0m29W",
        "outputId": "1fac670d-a2ac-4a88-ffe8-fec12accf42c"
      },
      "id": "a8RckmF0m29W",
      "execution_count": null,
      "outputs": [
        {
          "output_type": "stream",
          "name": "stdout",
          "text": [
            "Woof\n"
          ]
        }
      ]
    },
    {
      "cell_type": "code",
      "source": [
        "\n",
        "# we can change attributes of objects like such.\n",
        "\n",
        "barky.sound = \"BORF!!!!11\"\n",
        "\n",
        "#lets see what sound barky can make now\n",
        "print(barky.sound)"
      ],
      "metadata": {
        "colab": {
          "base_uri": "https://localhost:8080/"
        },
        "id": "LDcUEVexm5LM",
        "outputId": "dbda8e3e-d43e-4b33-e1fb-2162153edd4b"
      },
      "id": "LDcUEVexm5LM",
      "execution_count": null,
      "outputs": [
        {
          "output_type": "stream",
          "name": "stdout",
          "text": [
            "BORF!!!!11\n"
          ]
        }
      ]
    },
    {
      "cell_type": "markdown",
      "source": [
        "**Summary for OOP:**\n",
        "<br>Classes can be used to represent a set of objects. Each object represents data some type of data and can be thought of as a custom type of data. <br>\n",
        "\n",
        "For many applications in NanoEngineering, Object Oriented Programming is not super important, but provides some insight on the structure behind other packages. We can represent and initialize instances of graphs, models, atoms, anything you can possibly think of in code. You will rarely have to make your own objects unless you really go deep into python coding, but objects exist everywhere. OOP is super important for java and software dev so keep that in mind.\n",
        "\n",
        "<br>The key coding take away is as follows:\n",
        "<Br>**To create a new instance of an object, the syntax:**\n",
        "<br>variable_name = Object(init1 = something, init2 = something, ...)\n",
        "<br>**To get an attribute:**\n",
        "<br>object.attribute\n",
        "<br>**To perform an object method:**\n",
        "<br>object.method()"
      ],
      "metadata": {
        "id": "R78V58Psdkui"
      },
      "id": "R78V58Psdkui"
    }
  ],
  "metadata": {
    "kernelspec": {
      "display_name": "Python 3",
      "language": "python",
      "name": "python3"
    },
    "language_info": {
      "codemirror_mode": {
        "name": "ipython",
        "version": 3
      },
      "file_extension": ".py",
      "mimetype": "text/x-python",
      "name": "python",
      "nbconvert_exporter": "python",
      "pygments_lexer": "ipython3",
      "version": "3.8.8"
    },
    "colab": {
      "provenance": []
    }
  },
  "nbformat": 4,
  "nbformat_minor": 5
}