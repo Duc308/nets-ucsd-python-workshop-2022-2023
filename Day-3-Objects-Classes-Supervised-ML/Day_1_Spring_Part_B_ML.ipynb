{
 "cells": [
  {
   "attachments": {},
   "cell_type": "markdown",
   "metadata": {},
   "source": [
    "# Machine Learning Roadmap"
   ]
  },
  {
   "attachments": {},
   "cell_type": "markdown",
   "metadata": {},
   "source": [
    "The process of training a machine learning model involves several key steps:\n",
    "\n",
    "1. **Data collection and preparation**: This involves gathering and organizing the data that will be used to train the model. This includes tasks such as cleaning the data, removing irrelevant features, handling missing values, and converting the data into a suitable format for the machine learning algorithm. We are skipping collection, but we still need to do some basic cleaning.\n",
    "\n",
    "2. **Feature engineering**: This involves selecting and transforming the input variables (features) that will be used to predict the output variable. This can include tasks such as scaling or normalizing the data, creating new features, and selecting the most relevant features based on domain knowledge or statistical analysis. \n",
    "\n",
    "3. **Model selection**: This involves selecting the appropriate machine learning algorithm for the specific problem and data at hand. This can involve experimenting with different algorithms and hyperparameters, or using pre-trained models for certain types of problems.\n",
    "\n",
    "4. **Model training**: This involves using the selected algorithm and data to train the model by adjusting the model's parameters to minimize the error between the predicted output and the actual output. The training process involves iterating over the data multiple times, adjusting the model's parameters with each iteration to improve its accuracy.\n",
    "\n",
    "5. **Model evaluation**: This involves assessing the performance of the trained model on a separate test dataset, to determine its accuracy and generalization ability. This can involve metrics such as accuracy, precision, recall, F1-score, or mean squared error, depending on the specific problem and type of model.\n",
    "\n",
    "6. **Model deployment**: Once the model has been trained and evaluated, it can be deployed into a production environment for use in real-world applications. This can involve integrating the model into a larger system, building a user interface or API for interacting with the model, and monitoring its performance over time.\n",
    "\n",
    "Overall, the process of training a machine learning model is iterative and often requires careful experimentation and testing to achieve optimal results. It involves a combination of domain knowledge, data analysis, and statistical techniques to build accurate and effective models for a wide range of applications.\n",
    "\n",
    "It is common AI/ML knowledge that step 1 is the most important and time-consuming step (average ~80% of the total time doing AI/ML). Without a cleaned and reliable dataset, no amount of machine learning will be able to get accurate data. "
   ]
  },
  {
   "attachments": {},
   "cell_type": "markdown",
   "metadata": {},
   "source": [
    "# Importing Data & Cleaning\n"
   ]
  },
  {
   "cell_type": "code",
   "execution_count": 451,
   "metadata": {},
   "outputs": [],
   "source": [
    "import pandas as pd\n",
    "import numpy as np\n",
    "import seaborn as sns\n",
    "from sklearn import datasets\n"
   ]
  },
  {
   "cell_type": "code",
   "execution_count": null,
   "metadata": {},
   "outputs": [],
   "source": []
  },
  {
   "cell_type": "code",
   "execution_count": 452,
   "metadata": {},
   "outputs": [
    {
     "data": {
      "text/html": [
       "<div>\n",
       "<style scoped>\n",
       "    .dataframe tbody tr th:only-of-type {\n",
       "        vertical-align: middle;\n",
       "    }\n",
       "\n",
       "    .dataframe tbody tr th {\n",
       "        vertical-align: top;\n",
       "    }\n",
       "\n",
       "    .dataframe thead th {\n",
       "        text-align: right;\n",
       "    }\n",
       "</style>\n",
       "<table border=\"1\" class=\"dataframe\">\n",
       "  <thead>\n",
       "    <tr style=\"text-align: right;\">\n",
       "      <th></th>\n",
       "      <th>Pwr.(w)</th>\n",
       "      <th>TFR (mg/min)</th>\n",
       "      <th>O2-Lo (cc/m)</th>\n",
       "      <th>Temp(C)</th>\n",
       "      <th>Pres.(torr)</th>\n",
       "      <th>Total He Carrier (sccm)</th>\n",
       "      <th>k value</th>\n",
       "    </tr>\n",
       "  </thead>\n",
       "  <tbody>\n",
       "    <tr>\n",
       "      <th>0</th>\n",
       "      <td>960.0</td>\n",
       "      <td>5300.0</td>\n",
       "      <td>343.0</td>\n",
       "      <td>360.0</td>\n",
       "      <td>9.2</td>\n",
       "      <td>1225.0</td>\n",
       "      <td>2.848258</td>\n",
       "    </tr>\n",
       "    <tr>\n",
       "      <th>1</th>\n",
       "      <td>650.0</td>\n",
       "      <td>3000.0</td>\n",
       "      <td>68.0</td>\n",
       "      <td>340.0</td>\n",
       "      <td>10.2</td>\n",
       "      <td>1475.0</td>\n",
       "      <td>3.245444</td>\n",
       "    </tr>\n",
       "    <tr>\n",
       "      <th>2</th>\n",
       "      <td>1030.0</td>\n",
       "      <td>4800.0</td>\n",
       "      <td>58.0</td>\n",
       "      <td>380.0</td>\n",
       "      <td>4.7</td>\n",
       "      <td>550.0</td>\n",
       "      <td>3.953603</td>\n",
       "    </tr>\n",
       "    <tr>\n",
       "      <th>3</th>\n",
       "      <td>920.0</td>\n",
       "      <td>4800.0</td>\n",
       "      <td>438.0</td>\n",
       "      <td>380.0</td>\n",
       "      <td>4.7</td>\n",
       "      <td>1125.0</td>\n",
       "      <td>3.080942</td>\n",
       "    </tr>\n",
       "    <tr>\n",
       "      <th>4</th>\n",
       "      <td>500.0</td>\n",
       "      <td>4700.0</td>\n",
       "      <td>53.0</td>\n",
       "      <td>380.0</td>\n",
       "      <td>8.2</td>\n",
       "      <td>1200.0</td>\n",
       "      <td>3.749117</td>\n",
       "    </tr>\n",
       "    <tr>\n",
       "      <th>...</th>\n",
       "      <td>...</td>\n",
       "      <td>...</td>\n",
       "      <td>...</td>\n",
       "      <td>...</td>\n",
       "      <td>...</td>\n",
       "      <td>...</td>\n",
       "      <td>...</td>\n",
       "    </tr>\n",
       "    <tr>\n",
       "      <th>19995</th>\n",
       "      <td>630.0</td>\n",
       "      <td>4500.0</td>\n",
       "      <td>48.0</td>\n",
       "      <td>380.0</td>\n",
       "      <td>4.7</td>\n",
       "      <td>950.0</td>\n",
       "      <td>3.348780</td>\n",
       "    </tr>\n",
       "    <tr>\n",
       "      <th>19996</th>\n",
       "      <td>670.0</td>\n",
       "      <td>4600.0</td>\n",
       "      <td>108.0</td>\n",
       "      <td>380.0</td>\n",
       "      <td>8.2</td>\n",
       "      <td>1025.0</td>\n",
       "      <td>2.845660</td>\n",
       "    </tr>\n",
       "    <tr>\n",
       "      <th>19997</th>\n",
       "      <td>990.0</td>\n",
       "      <td>4700.0</td>\n",
       "      <td>63.0</td>\n",
       "      <td>380.0</td>\n",
       "      <td>5.2</td>\n",
       "      <td>1000.0</td>\n",
       "      <td>3.224239</td>\n",
       "    </tr>\n",
       "    <tr>\n",
       "      <th>19998</th>\n",
       "      <td>1020.0</td>\n",
       "      <td>4800.0</td>\n",
       "      <td>313.0</td>\n",
       "      <td>340.0</td>\n",
       "      <td>9.2</td>\n",
       "      <td>925.0</td>\n",
       "      <td>3.541268</td>\n",
       "    </tr>\n",
       "    <tr>\n",
       "      <th>19999</th>\n",
       "      <td>860.0</td>\n",
       "      <td>4900.0</td>\n",
       "      <td>128.0</td>\n",
       "      <td>320.0</td>\n",
       "      <td>9.2</td>\n",
       "      <td>1050.0</td>\n",
       "      <td>3.142747</td>\n",
       "    </tr>\n",
       "  </tbody>\n",
       "</table>\n",
       "<p>20000 rows × 7 columns</p>\n",
       "</div>"
      ],
      "text/plain": [
       "          Pwr.(w)  TFR (mg/min)  O2-Lo (cc/m)  Temp(C)  Pres.(torr)  \\\n",
       "0           960.0        5300.0         343.0    360.0          9.2   \n",
       "1           650.0        3000.0          68.0    340.0         10.2   \n",
       "2          1030.0        4800.0          58.0    380.0          4.7   \n",
       "3           920.0        4800.0         438.0    380.0          4.7   \n",
       "4           500.0        4700.0          53.0    380.0          8.2   \n",
       "...           ...           ...           ...      ...          ...   \n",
       "19995       630.0        4500.0          48.0    380.0          4.7   \n",
       "19996       670.0        4600.0         108.0    380.0          8.2   \n",
       "19997       990.0        4700.0          63.0    380.0          5.2   \n",
       "19998      1020.0        4800.0         313.0    340.0          9.2   \n",
       "19999       860.0        4900.0         128.0    320.0          9.2   \n",
       "\n",
       "       Total He Carrier (sccm)   k value  \n",
       "0                       1225.0  2.848258  \n",
       "1                       1475.0  3.245444  \n",
       "2                        550.0  3.953603  \n",
       "3                       1125.0  3.080942  \n",
       "4                       1200.0  3.749117  \n",
       "...                        ...       ...  \n",
       "19995                    950.0  3.348780  \n",
       "19996                   1025.0  2.845660  \n",
       "19997                   1000.0  3.224239  \n",
       "19998                    925.0  3.541268  \n",
       "19999                   1050.0  3.142747  \n",
       "\n",
       "[20000 rows x 7 columns]"
      ]
     },
     "execution_count": 452,
     "metadata": {},
     "output_type": "execute_result"
    }
   ],
   "source": [
    "\n",
    "data = pd.read_csv('PECVD Randomly Generated Data.csv')\n",
    "data"
   ]
  },
  {
   "cell_type": "code",
   "execution_count": 453,
   "metadata": {},
   "outputs": [],
   "source": [
    "\n",
    "data = data.drop_duplicates(ignore_index=True) #delete all duplicates\n",
    "\n"
   ]
  },
  {
   "attachments": {},
   "cell_type": "markdown",
   "metadata": {},
   "source": [
    "**Feature and Target Separation**\n",
    "<br>\n",
    "<br>We separate our independent variables from our dependent variables from the dataframe. This is to make the inputs readable for the model code and distinguish what are features and what is the target."
   ]
  },
  {
   "cell_type": "code",
   "execution_count": 454,
   "metadata": {},
   "outputs": [
    {
     "data": {
      "text/html": [
       "<div>\n",
       "<style scoped>\n",
       "    .dataframe tbody tr th:only-of-type {\n",
       "        vertical-align: middle;\n",
       "    }\n",
       "\n",
       "    .dataframe tbody tr th {\n",
       "        vertical-align: top;\n",
       "    }\n",
       "\n",
       "    .dataframe thead th {\n",
       "        text-align: right;\n",
       "    }\n",
       "</style>\n",
       "<table border=\"1\" class=\"dataframe\">\n",
       "  <thead>\n",
       "    <tr style=\"text-align: right;\">\n",
       "      <th></th>\n",
       "      <th>Pwr.(w)</th>\n",
       "      <th>TFR (mg/min)</th>\n",
       "      <th>O2-Lo (cc/m)</th>\n",
       "      <th>Temp(C)</th>\n",
       "      <th>Pres.(torr)</th>\n",
       "      <th>Total He Carrier (sccm)</th>\n",
       "    </tr>\n",
       "  </thead>\n",
       "  <tbody>\n",
       "    <tr>\n",
       "      <th>0</th>\n",
       "      <td>960.0</td>\n",
       "      <td>5300.0</td>\n",
       "      <td>343.0</td>\n",
       "      <td>360.0</td>\n",
       "      <td>9.2</td>\n",
       "      <td>1225.0</td>\n",
       "    </tr>\n",
       "    <tr>\n",
       "      <th>1</th>\n",
       "      <td>650.0</td>\n",
       "      <td>3000.0</td>\n",
       "      <td>68.0</td>\n",
       "      <td>340.0</td>\n",
       "      <td>10.2</td>\n",
       "      <td>1475.0</td>\n",
       "    </tr>\n",
       "    <tr>\n",
       "      <th>2</th>\n",
       "      <td>1030.0</td>\n",
       "      <td>4800.0</td>\n",
       "      <td>58.0</td>\n",
       "      <td>380.0</td>\n",
       "      <td>4.7</td>\n",
       "      <td>550.0</td>\n",
       "    </tr>\n",
       "    <tr>\n",
       "      <th>3</th>\n",
       "      <td>920.0</td>\n",
       "      <td>4800.0</td>\n",
       "      <td>438.0</td>\n",
       "      <td>380.0</td>\n",
       "      <td>4.7</td>\n",
       "      <td>1125.0</td>\n",
       "    </tr>\n",
       "    <tr>\n",
       "      <th>4</th>\n",
       "      <td>500.0</td>\n",
       "      <td>4700.0</td>\n",
       "      <td>53.0</td>\n",
       "      <td>380.0</td>\n",
       "      <td>8.2</td>\n",
       "      <td>1200.0</td>\n",
       "    </tr>\n",
       "  </tbody>\n",
       "</table>\n",
       "</div>"
      ],
      "text/plain": [
       "      Pwr.(w)  TFR (mg/min)  O2-Lo (cc/m)  Temp(C)  Pres.(torr)  \\\n",
       "0       960.0        5300.0         343.0    360.0          9.2   \n",
       "1       650.0        3000.0          68.0    340.0         10.2   \n",
       "2      1030.0        4800.0          58.0    380.0          4.7   \n",
       "3       920.0        4800.0         438.0    380.0          4.7   \n",
       "4       500.0        4700.0          53.0    380.0          8.2   \n",
       "\n",
       "   Total He Carrier (sccm)  \n",
       "0                   1225.0  \n",
       "1                   1475.0  \n",
       "2                    550.0  \n",
       "3                   1125.0  \n",
       "4                   1200.0  "
      ]
     },
     "metadata": {},
     "output_type": "display_data"
    }
   ],
   "source": [
    "# Lets first create two new dataframes, a matrice representing the indpendent variables, and a vector representing the dependent variable/target\n",
    "\n",
    "features = data.drop(['k value'], axis=1)\n",
    "target = data['k value']\n",
    "\n",
    "display(features.head())\n"
   ]
  },
  {
   "cell_type": "code",
   "execution_count": 455,
   "metadata": {},
   "outputs": [
    {
     "data": {
      "text/plain": [
       "0        2.848258\n",
       "1        3.245444\n",
       "2        3.953603\n",
       "3        3.080942\n",
       "4        3.749117\n",
       "           ...   \n",
       "19995    3.348780\n",
       "19996    2.845660\n",
       "19997    3.224239\n",
       "19998    3.541268\n",
       "19999    3.142747\n",
       "Name: k value, Length: 20000, dtype: float64"
      ]
     },
     "metadata": {},
     "output_type": "display_data"
    }
   ],
   "source": [
    "#Show Target. Looks different because it is just a vector rather than a df.\n",
    "display(target)"
   ]
  },
  {
   "attachments": {},
   "cell_type": "markdown",
   "metadata": {},
   "source": [
    "# Data Transformation/Scaling (Feature Engineering)\n",
    "<br>\n",
    "<br>Here we are going to do some basic feature engineering by scaling the data.\n",
    "<br>We do this so that every feature is of equal importance in our model analysis."
   ]
  },
  {
   "cell_type": "code",
   "execution_count": 456,
   "metadata": {},
   "outputs": [],
   "source": [
    "from sklearn.model_selection import train_test_split\n",
    "x = features # independent variable matrix\n",
    "y = target # dependent variable vector\n",
    "\n",
    "X_train, X_test, y_train, y_test = train_test_split(\n",
    "    x, y, test_size=0.10, random_state=42\n",
    ")\n",
    "\n",
    "# A more intuitive method for normalizing.\n",
    "# This code explicitly writes out how to scale our data and make the mean of the feature data 0 and the stdev 1.\n",
    "\n",
    "norm_train_X = (X_train - X_train.mean())/X_train.std()\n",
    "norm_test_X = (X_test - X_train.mean())/X_train.std()\n",
    "for column in X_train.columns: \n",
    "    norm_train_X[column] = (X_train[column] - \\\n",
    "        X_train[column].mean()) / X_train[column].std()     \n",
    "\n",
    "for column in X_test.columns: \n",
    "    norm_test_X[column] = (X_test[column] - \\\n",
    "        X_test[column].mean()) / X_test[column].std() "
   ]
  },
  {
   "cell_type": "code",
   "execution_count": 457,
   "metadata": {},
   "outputs": [
    {
     "name": "stdout",
     "output_type": "stream",
     "text": [
      "The mean is -1.8586613729591286e-16\n",
      "The stdev is 1.0\n"
     ]
    }
   ],
   "source": [
    "#Scaling\n",
    "\n",
    "#X is your materials data \n",
    "#Y is your design matrix \n",
    "\n",
    "from sklearn.preprocessing import StandardScaler\n",
    "\n",
    "x = features # independent variable matrix\n",
    "y = target # dependent variable vector\n",
    "\n",
    "\n",
    "\n",
    "\n",
    "scaler = StandardScaler()\n",
    "scaled_x = scaler.fit_transform(x) \n",
    "print(f\"The mean is {np.mean(scaled_x)}\")\n",
    "print(f\"The stdev is {np.std(scaled_x)}\")\n",
    "\n",
    "\n"
   ]
  },
  {
   "attachments": {},
   "cell_type": "markdown",
   "metadata": {},
   "source": [
    "# Linear Regression\n",
    "<br> With Linear Regression, there is no need to tune hyperparameters.\n",
    "<br>"
   ]
  },
  {
   "cell_type": "code",
   "execution_count": 458,
   "metadata": {},
   "outputs": [
    {
     "name": "stdout",
     "output_type": "stream",
     "text": [
      "The Mean Absolute Error is 0.25676262911792386\n"
     ]
    }
   ],
   "source": [
    "from sklearn.linear_model import LinearRegression\n",
    "from sklearn.metrics import mean_absolute_error\n",
    "\n",
    "# For this example, we only do one split.\n",
    "\n",
    "\n",
    "X_train, X_test, y_train, y_test = train_test_split(\n",
    "    scaled_x, y, test_size=0.25, random_state=42\n",
    ")\n",
    "\n",
    "linear_mlr = LinearRegression() # Create linear regression object\n",
    "linear_mlr.fit(X_train, y_train)\n",
    "y_prediction = linear_mlr.predict(X_test)\n",
    "mae = mean_absolute_error(y_test,y_prediction)\n",
    "print(f'The Mean Absolute Error is {mae}')\n"
   ]
  },
  {
   "attachments": {},
   "cell_type": "markdown",
   "metadata": {},
   "source": [
    "# Ridge Regression\n"
   ]
  },
  {
   "cell_type": "code",
   "execution_count": 459,
   "metadata": {},
   "outputs": [],
   "source": [
    "import matplotlib.pyplot as plt\n",
    "# We are going to use this function to help evaluate and visualize hyperparameters.\n",
    "# This function was adapted from NANO181/281 by the Materials Virtual Lab.\n",
    "\n",
    "def plot_grid_search_results(gs, ylim=None):\n",
    "    \"\"\"\n",
    "    Plots the results of GridSearchCV.\n",
    "\n",
    "    Args:\n",
    "        gs: A GridSearchCV object.\n",
    "        ylim: Optional setting for y limits.\n",
    "    \"\"\"\n",
    "    results = pd.DataFrame(gs.cv_results_)\n",
    "    for c in results.columns:\n",
    "        # Note that here we are working with just variations in one parameter.\n",
    "        # So we can automatically find the name of that parameter.\n",
    "        if c.startswith(\"param_\"):\n",
    "            x = c\n",
    "            break\n",
    "    fig, ax = plt.subplots(figsize=(16, 8))\n",
    "\n",
    "    ax = sns.lineplot(x=x, y=\"mean_test_score\", data=results)\n",
    "    ax = sns.scatterplot(x=x, y=\"mean_test_score\", data=results, marker=\"o\")\n",
    "    plt.xlabel(x)\n",
    "    if ylim:\n",
    "        plt.ylim(ylim)\n",
    "    ax.legend([\"Test\"], loc=2)"
   ]
  },
  {
   "cell_type": "code",
   "execution_count": 460,
   "metadata": {},
   "outputs": [
    {
     "name": "stdout",
     "output_type": "stream",
     "text": [
      "The best parameter is 17.1718\n"
     ]
    },
    {
     "data": {
      "image/png": "[encoded data removed]",
      "text/plain": [
       "<Figure size 1600x800 with 1 Axes>"
      ]
     },
     "metadata": {},
     "output_type": "display_data"
    }
   ],
   "source": [
    "from sklearn.linear_model import Ridge\n",
    "from sklearn.model_selection import KFold, GridSearchCV\n",
    "#From before, we split our data into X_train, Y_train, X_test, Y_test\n",
    "\n",
    "kfold = KFold(n_splits=5, shuffle=True, random_state=42)\n",
    "alphas = np.linspace(0.0001, 100, 100)\n",
    "ridge_mlr = Ridge(max_iter=100000)\n",
    "\n",
    "gs = GridSearchCV(ridge_mlr, param_grid={\"alpha\": alphas}, scoring=\"neg_mean_squared_error\")\n",
    "\n",
    "\n",
    "gs.fit(X_train,y_train)\n",
    "\n",
    "results = pd.DataFrame(gs.cv_results_)\n",
    "\n",
    "\n",
    "best_result = gs.best_params_\n",
    "plot_grid_search_results(gs)\n",
    "best_alpha = best_result['alpha']\n",
    "print(f\"The best parameter is {best_alpha}\")\n",
    "\n",
    "\n",
    "\n",
    "\n",
    "\n"
   ]
  },
  {
   "cell_type": "code",
   "execution_count": 461,
   "metadata": {},
   "outputs": [
    {
     "name": "stdout",
     "output_type": "stream",
     "text": [
      "The Mean Absolute Error for our ridge model is 0.25676262911792386\n"
     ]
    }
   ],
   "source": [
    "# Make Final Model\n",
    "final_ridge_mlr = Ridge(alpha=best_alpha,max_iter=100000)\n",
    "final_ridge_mlr.fit(X_train,y_train)\n",
    "ridge_predict = final_ridge_mlr.predict(X_test)\n",
    "ridge_mae = mean_absolute_error(y_test,ridge_predict)\n",
    "print(f'The Mean Absolute Error for our ridge model is {mae}')"
   ]
  }
 ],
 "metadata": {
  "kernelspec": {
   "display_name": "NANOx81",
   "language": "python",
   "name": "python3"
  },
  "language_info": {
   "codemirror_mode": {
    "name": "ipython",
    "version": 3
   },
   "file_extension": ".py",
   "mimetype": "text/x-python",
   "name": "python",
   "nbconvert_exporter": "python",
   "pygments_lexer": "ipython3",
   "version": "3.9.7"
  },
  "orig_nbformat": 4
 },
 "nbformat": 4,
 "nbformat_minor": 2
}
