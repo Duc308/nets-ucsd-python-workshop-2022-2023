{
 "cells": [
  {
   "attachments": {},
   "cell_type": "markdown",
   "metadata": {
    "id": "q2lVOXVYbCim"
   },
   "source": [
    "# APIs:\n",
    "\n",
    "APIs or Application Programming Interfaces are a set of functions to access features or data of an operating system or application.\n"
   ]
  },
  {
   "cell_type": "markdown",
   "metadata": {
    "id": "ZiTb2tODbCio"
   },
   "source": [
    "The most common type of API is known as a REST or REpresentational State Transfer. These can be typically used to GET and PUT data onto a system such as a server. Many materials databases use APIs for researchers to obtain data.\n",
    "In this notebook, we will mostly be exploring how to obtain data from APIs so we can use it in python scripts."
   ]
  },
  {
   "cell_type": "code",
   "execution_count": null,
   "metadata": {
    "id": "davvpjO0bCio"
   },
   "outputs": [],
   "source": [
    "import json\n",
    "from urllib import request\n",
    "import pandas as pd"
   ]
  },
  {
   "cell_type": "markdown",
   "metadata": {
    "id": "C4O5w5CfbCip"
   },
   "source": [
    "Let us try to access an API. We will use a very simple API that gets random pictures of dogs.\n"
   ]
  },
  {
   "cell_type": "code",
   "execution_count": null,
   "metadata": {
    "colab": {
     "base_uri": "https://localhost:8080/"
    },
    "id": "5wwrls-1bCip",
    "outputId": "919ba427-3664-4903-c4b2-0c2cedcce35e"
   },
   "outputs": [],
   "source": [
    "# You will first notice that this API is a link. Follow the link by copying and pasting it into your browser. You will be granted with some strange lines of text. \n",
    "# This text is in a format called JSON (JavaScript Object Notation) which is very similar to a python dictionary object\n",
    "DOG_API = 'https://dog.ceo/api/breeds/image/random'\n",
    "\n",
    "#Now lets get the data we want into our code. First, since this file is in json, we will call a JSON loader and open the url, and read it. Also, we want to decode it into UTF\n",
    "response = json.loads(request.urlopen(DOG_API).read().decode('utf-8'))\n",
    "\n",
    "#Lets print our response. You will notice it is in the python dictionary format (which is similar to the json format)\n",
    "\n",
    "print(response)\n"
   ]
  },
  {
   "cell_type": "code",
   "execution_count": null,
   "metadata": {
    "colab": {
     "base_uri": "https://localhost:8080/"
    },
    "id": "gOw6iN3LbCiq",
    "outputId": "b6306423-66ab-4d78-819f-b51afe3e493e"
   },
   "outputs": [],
   "source": [
    "# You will see that this dictionary has 2 keys and 2 corresponding values. The first one is 'status' the next one is 'message'. This api conviently tells you if it worked or not.\n",
    "# other ways to see it is to see if you got an error. The type and format of the information displayed is not always the same so be sure to always read documentation, or print out the output to see it yourself! \n",
    "# Dog CEO API Docs: https://dog.ceo/dog-api/documentation/random\n",
    "\n",
    "#Now that we have our response, lets create a function that will give us a random dog link. This could be useful for some project, but not for the rest of this notebook.\n",
    "\n",
    "#the -> str means that the function must return a string.\n",
    "def get_random_dog() -> str:\n",
    "    response = json.loads(request.urlopen(DOG_API).read().decode('utf-8'))\n",
    "    if response['status'] == 'success':\n",
    "        return response['message']\n",
    "    else:\n",
    "        return \"Oops! There has been an error\"\n",
    "\n",
    "dog_link = get_random_dog()\n",
    "\n",
    "#Fun fact: If you are typing something that would obstruct code, there are escapers! \\' indicates a ' as a string not part of code, \\n -- new line, \\\\ - backslash, \\\" double quote, \\t - tab, \\b - backspace.\n",
    "print(\"Here\\'s a funny dog link! \" + dog_link)\n",
    "\n",
    "\n"
   ]
  },
  {
   "cell_type": "code",
   "execution_count": null,
   "metadata": {
    "colab": {
     "base_uri": "https://localhost:8080/"
    },
    "id": "MqBWLUijbCir",
    "outputId": "bc1bef83-ff7d-4d84-902b-9ed0f040b66a"
   },
   "outputs": [],
   "source": [
    "#Lets try a bit of more advanced code. APIs can sometimes be unreliable and not return data. Sometimes their servers are down or some of their data is invalid.\n",
    "#Here we will write some code that will deal with that and still continue to run! This is important if you are downloading a lot of things and do not want to obstruct the code.\n",
    "\n",
    "# -> str indicates that this function will always return a string, otherwise it will throw an error.\n",
    "def get_random_dog2(API) -> str:\n",
    "    try:\n",
    "      response = json.loads(request.urlopen(API).read().decode('utf-8'))\n",
    "      if response['status'] == 'success':\n",
    "          return response['message']\n",
    "      else:\n",
    "        return \"\"\n",
    "    except request.HTTPError as e:\n",
    "        print(\"Oops! Theres been a web error: Error Code: \" + str(e))\n",
    "        return \"\"\n",
    "    except Exception as e:\n",
    "        print(\"Oops there has been a different error! Stack Trace: \\n\" + str(e))\n",
    "        return \"\"\n",
    "\n",
    "dog_link = get_random_dog2(DOG_API)\n",
    "\n",
    "print(\"Here\\'s a funny dog link! \" + dog_link)\n",
    "\n",
    "#Lets try a messed up link\n",
    "BAD_API = \"https://www.google.com\"\n",
    "dog_link = get_random_dog2(BAD_API)\n",
    "\n",
    "#Another one\n",
    "BAD_API = \"asdlkj;afjlkslkdfal;jks\"\n",
    "dog_link = get_random_dog2(BAD_API)\n",
    "#another\n",
    "dog_link = get_random_dog2(DOG_API + 'asdasdasdasdas')\n",
    "\n",
    "#This code will run even though the function is error prone!\n",
    "print(\"The code does not stop!\")\n",
    "\n",
    "#Keep in mind however, as you get better at python, there are still better ways to handle exceptions, but for now, this will work well."
   ]
  },
  {
   "attachments": {},
   "cell_type": "markdown",
   "metadata": {
    "id": "PW740Dx2keFC"
   },
   "source": [
    "Activity 1: <br> Read the documentation from https://dog.ceo/dog-api/documentation/random. Write a function that will take in  a number, n, as the amount of dog pictures. Return a list of dog pictures. \n",
    "<br>Bonus Activity:\n",
    "<br>Add an optional \"breed\" parameter that narrows down the search to what breed of dog you want to return. Bonus points if you can throw an exception if the request fails, and print out why it failed. (Invalid breed? Server failure?)\n",
    "<br>Furthermore, you can make all parameters optional and if no parameters are specified, default to one image. Return a list of size 0 or greater. (empty if fails)\n"
   ]
  },
  {
   "cell_type": "code",
   "execution_count": null,
   "metadata": {
    "colab": {
     "base_uri": "https://localhost:8080/"
    },
    "id": "dUUbOqFzlNgw",
    "outputId": "4093b37b-1264-4a50-f4b7-b6c14310cb58"
   },
   "outputs": [],
   "source": [
    "# CODE HERE\n",
    "\n"
   ]
  },
  {
   "attachments": {},
   "cell_type": "markdown",
   "metadata": {
    "id": "nJNrNRiqbCis"
   },
   "source": [
    "# AFLOW AFLUX API"
   ]
  },
  {
   "cell_type": "code",
   "execution_count": null,
   "metadata": {
    "colab": {
     "base_uri": "https://localhost:8080/"
    },
    "id": "jg312s6lbCis",
    "outputId": "ab03e889-564f-432f-9a98-0c3036656307"
   },
   "outputs": [],
   "source": [
    "#Lets try to access some materials databases APIs. First, we will try AFLOW Aflux as it is similar to the dog API.\n",
    "\n",
    "#Lets open up the documentation for reference. Follow this link for a basic usage: http://aflow.org/API/aflux/ and this one for more advanced usage https://www.sciencedirect.com/science/article/pii/S0927025614003322?via%3Dihub\n",
    "# Or run this block to get the documentation in text.\n",
    "#It is very important to know how to read documentation and figure how each database works! Usually, they come with some code tutorial as a quickstart guide.\n",
    "\n",
    "response = request.urlopen('http://aflow.org/API/aflux/?help').read().decode('utf-8')\n",
    "print(response)\n"
   ]
  },
  {
   "cell_type": "code",
   "execution_count": null,
   "metadata": {
    "id": "JWa42N-RbCis"
   },
   "outputs": [],
   "source": [
    "# Now lets actually use aflow. In this example we will get EVERY compound with an energygap greater than 0.5 eV. \n",
    "\n",
    "# First lets set our base url\n",
    "AFLOW_API = 'http://aflow.org/API/aflux/'\n",
    "\n",
    "# Now lets make a summons example. You can query so many properties using aflow. Heres just a few of them. You can add data columns to your request by adding whatever the property is plus a (*)\n",
    "#Example. If I want to show the formation enthalpy per atom I would add enthalpy_formation_atom(*)\n",
    "\n",
    "AFLOW_SUMMONS = 'Egap(!*0.5),catalog(ICSD),$paging(0),energy_atom(*),prototype(*),enthalpy_formation_atom(*),ael_bulk_modulus_reuss(*)'\n",
    "\n",
    "# Combine the two to make a link.\n",
    "AFLOW_REQUEST = AFLOW_API + '?' + AFLOW_SUMMONS\n",
    "\n",
    "# You could technically use the commented line and skip these steps, but its nice to have your summons separated so you can adjust it. \n",
    "# \n",
    "# AFLOW_REQUEST = 'http://aflow.org/API/aflux/?Egap(!*0.5),catalog(ICSD),$paging(0),energy_atom(*),prototype(*)\n",
    "#\n",
    "# \n",
    "#Now lets make the request. Keep in mind it will take a bit.\n",
    "response = json.loads(request.urlopen(AFLOW_REQUEST).read().decode('utf-8'))\n",
    "\n",
    "# Lets also dump all the data into a file so we don't have to make another request. If you are on google collab, keep in mind that this .json won't save so \n",
    "# this is better on a localhost (personal computer running python) or a server.\n",
    "\n",
    "with open('My_Aflow_Query.json', 'w') as f:\n",
    "    json.dump(response, f)\n",
    "\n",
    "#A trick with aflow is to use the search function Go here http://aflowlib.org/search/?search=\n",
    "# Select \"property filter\", add or specify any filters you want or just add a checkmark to add that data to your summons.\n",
    "# Press search. Scroll down a little bit and click on the \"aflux summons\" and copy and paste that url as your aflow summons and proceed."
   ]
  },
  {
   "cell_type": "code",
   "execution_count": null,
   "metadata": {
    "colab": {
     "base_uri": "https://localhost:8080/"
    },
    "id": "_y6aKl1rbCit",
    "outputId": "3913e557-c145-45b4-e9bc-c5ff0e0e9c2e"
   },
   "outputs": [],
   "source": [
    "#Open the json file just saved.\n",
    "with open('My_Aflow_Query.json', 'r') as f:\n",
    "    aflow_data = json.load(f) #This is wierd -- we used json.load() instead of json.loads(). The key difference between the two is that load() loads a file, loads() loads strings.\n",
    "\n",
    "#Lets get the size -- you will notice theres a lot of data.\n",
    "print(\"The size of the data list is \" + str(len(aflow_data)))\n",
    "\n",
    "#lets print the first 3 entries -- theres a lot of entries\n",
    "print(aflow_data[0:3])\n",
    "\n",
    "#This is a very raw but machine readable way to read data. If you look very carefully, you will notice it is a list of dictionaries. Each dictionary represents a database entry which represents a material."
   ]
  },
  {
   "cell_type": "code",
   "execution_count": null,
   "metadata": {
    "colab": {
     "base_uri": "https://localhost:8080/",
     "height": 423
    },
    "id": "1e4DZ8NVbCit",
    "outputId": "a207fcbb-9b83-4be9-850d-446723e0e05a"
   },
   "outputs": [],
   "source": [
    "#Lets use Pandas software to organize this. You can convert any list of dictionaries into a dataframe. We will use this data later.\n",
    "aflow_df = pd.DataFrame(aflow_data)\n",
    "#lets display it\n",
    "\n",
    "display(aflow_df)"
   ]
  },
  {
   "attachments": {},
   "cell_type": "markdown",
   "metadata": {
    "id": "ojcLRlnZbCit"
   },
   "source": [
    "# Materials Project"
   ]
  },
  {
   "cell_type": "markdown",
   "metadata": {
    "id": "hEJlVfwXbCiu"
   },
   "source": [
    "Materials project uses an API but to access it, we have to use an API client to access the data. API clients are software packages that can be imported to give us functions to access their database, the results will be very similar though.\n"
   ]
  },
  {
   "cell_type": "code",
   "execution_count": null,
   "metadata": {
    "colab": {
     "base_uri": "https://localhost:8080/"
    },
    "id": "lmTDX4MWbCiu",
    "outputId": "95e7109e-5942-496a-8d81-7978d3ec3306"
   },
   "outputs": [],
   "source": [
    "#Uncomment this and run if you are on google collab. Notebooks can perform terminal commands with a ! operator in front of it, this installs the package if you do not have it.\n",
    "#!pip install mp_api\n",
    "#\n",
    "# Heres another linux command just for fun. cd = current directory and just gets the current directory\n",
    "#!cd"
   ]
  },
  {
   "cell_type": "code",
   "execution_count": null,
   "metadata": {
    "colab": {
     "base_uri": "https://localhost:8080/",
     "height": 393
    },
    "id": "BYqyTYc4bCiu",
    "outputId": "f53b19c5-fcae-4ec2-de91-a2d04a83726c"
   },
   "outputs": [],
   "source": [
    "from mp_api.client import MPRester\n",
    "\n",
    "# Go to https://materialsproject.org/api sign up, and get an API key. Paste it in this variable. DO NOT SHARE YOUR KEY.\n",
    "#\n",
    "# What is an API key? \n",
    "# For many APIs, you are required to get a key.  A key is basically a unique string of random \n",
    "# numbers and letters that authenticates you. \n",
    "# API keys are implemented for safety reasons. Without it, people could access and/or modify programs/databases they shouldn't be able to. \n",
    "# Also, the requests are ratelimited so you can only request so much per minute. Its not an issue for most individuals,\n",
    "# but a company or research group may want to do a lot of request so they can get a special key that lets them do so\n",
    "# more than other users.\n",
    "#\n",
    "# In the future if you leak your API key, most sites will let you regenerate that key (invalidate the old key, and get you a new one)\n",
    "# MP does not do that, so email them if that happens. \n",
    "\n",
    "with open('api_key.txt', 'r') as f:\n",
    "    MY_API_KEY = f.read()\n",
    "    \n",
    "#Optionally, \n",
    "#MY_API_KEY = \"<YOUR-API-KEY>\"\n",
    "\n",
    "# Explore these docs https://docs.materialsproject.org/downloading-data/using-the-api/querying-data. This will tell you how to do things.\n",
    "# This specific query gets all ABO3 (Perovskites) and gets a bunch of fields for them including band gap, formation energy, hull.... etc. you can see the list.\n",
    "\n",
    "with MPRester(MY_API_KEY) as mpr:\n",
    "    list_of_available_fields = mpr.summary.available_fields\n",
    "    print(list_of_available_fields)\n",
    "    data = mpr.summary.search(formula=[\"**O3\"], fields=[\"material_id\",\"formula_pretty\", \"formation_energy_per_atom\",\"band_gap\",\"theoretical\",\"nsites\",\"energy_above_hull\", \"symmetry\",])\n",
    "\n",
    "    \n",
    "    \n",
    "mp_df = pd.DataFrame([d.dict() for d in data])\n",
    "mp_df.drop(columns=[\"fields_not_requested\"], inplace=True)\n",
    "mp_df = mp_df.dropna()\n",
    "display(mp_df)"
   ]
  },
  {
   "cell_type": "markdown",
   "metadata": {
    "id": "1E0xWXhpbCiu"
   },
   "source": [
    "Another Data base: Open Quantum Materials Database (OQMD) https://static.oqmd.org/static/docs/restful.html. You can do the same thing as before with Aflux and MP. Follow documents and usage guide. Note: I'm pretty sure the client is broken so make calls like aflow.\n"
   ]
  },
  {
   "cell_type": "markdown",
   "metadata": {
    "id": "rMbbvN3Hm7R_"
   },
   "source": [
    "Activity 2: Lets get some data. Write a code that will get the following featues for ALL cubic structures. Use any database, MP or aflow, or both.\n",
    "\n",
    "\n",
    "\n",
    "*   Composition/compound\n",
    "*   Bulk modulus voight (k voight)\n",
    "*   Formation energy\n",
    "\n",
    "<br>Bonus: save it as a json file. Querying large data sets takes a lot of time. Saving it in json lets you access the data again without having to do a query. Also display it as a dataframe. Also save it as a .csv"
   ]
  },
  {
   "cell_type": "code",
   "execution_count": null,
   "metadata": {
    "id": "ixVL7J4Y-Lnh"
   },
   "outputs": [],
   "source": [
    "#YOUR CODE HERE\n"
   ]
  },
  {
   "cell_type": "code",
   "execution_count": null,
   "metadata": {},
   "outputs": [],
   "source": [
    "#MP Way\n",
    "\n",
    "\n"
   ]
  }
 ],
 "metadata": {
  "colab": {
   "provenance": []
  },
  "kernelspec": {
   "display_name": "Python 3 (ipykernel)",
   "language": "python",
   "name": "python3"
  },
  "language_info": {
   "codemirror_mode": {
    "name": "ipython",
    "version": 3
   },
   "file_extension": ".py",
   "mimetype": "text/x-python",
   "name": "python",
   "nbconvert_exporter": "python",
   "pygments_lexer": "ipython3",
   "version": "3.9.7"
  },
  "vscode": {
   "interpreter": {
    "hash": "c34e867b94f0c00aa527ae717b2a888594695abc5b79fc41a5c5d3a7a3c202b3"
   }
  }
 },
 "nbformat": 4,
 "nbformat_minor": 4
}
