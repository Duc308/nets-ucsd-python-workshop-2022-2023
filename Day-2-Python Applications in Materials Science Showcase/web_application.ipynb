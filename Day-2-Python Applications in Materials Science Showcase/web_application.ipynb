{
  "nbformat": 4,
  "nbformat_minor": 0,
  "metadata": {
    "colab": {
      "provenance": [],
      "toc_visible": true
    },
    "kernelspec": {
      "name": "python3",
      "display_name": "Python 3"
    },
    "language_info": {
      "name": "python"
    }
  },
  "cells": [
    {
      "cell_type": "markdown",
      "source": [
        "# Context"
      ],
      "metadata": {
        "id": "Vml5bq3cNuMR"
      }
    },
    {
      "cell_type": "markdown",
      "source": [
        "\n",
        "**Why build web application at all?**\n",
        "\n",
        "1. **Reach:** web applications can be accessed from anywhere in the world, not necesarrily on your local computer\n",
        "2. **Convenience:** they do not need to be downloaded, makes it much easier for users to access\n",
        "3. **Analytics:** forming a connection with tools like Google Analytics and etc allows you to gain insights into user behavior and preferences. As a progammer, making informed decisions is super important for development and marketing. "
      ],
      "metadata": {
        "id": "iiHhBv_yMk0F"
      }
    },
    {
      "cell_type": "markdown",
      "source": [
        "Python `Streamlit` and Python `Dash` are both open-source Python libraries that are used for building interactive web applications in Python.\n",
        "\n",
        "**Streamlit** is a relatively new library that is designed to help data scientists quickly build interactive web applications using Python. It allows users to create data-driven applications in just a few lines of code, without needing to worry about the underlying HTML, CSS, or JavaScript. Streamlit provides an easy-to-use API that allows users to create web applications with widgets for input, data visualization, and output. Streamlit is known for its simplicity and ease of use, making it a great choice for data scientists who want to quickly create interactive visualizations.\n",
        "\n",
        "https://streamlit.io/gallery\n",
        "\n",
        "**Dash**, on the other hand, is a more mature library that has been around for a few years. It is built on top of Flask, a popular Python web framework, and React, a JavaScript library for building user interfaces. Dash allows users to create interactive web applications by writing Python code. Like Streamlit, Dash provides a set of components for input, data visualization, and output, and also allows users to customize the appearance of their applications using CSS. However, Dash has a steeper learning curve than Streamlit due to its more complex architecture.\n",
        "\n",
        "https://dash.gallery/Portal/\n",
        "\n",
        "In summary, both Streamlit and Dash are powerful tools for creating interactive web applications in Python, but they have different strengths and weaknesses. Streamlit is great for quickly building simple, data-driven applications, while Dash is better suited for more complex applications that require more customization and interactivity."
      ],
      "metadata": {
        "id": "RmrZ6b4JN2Kz"
      }
    },
    {
      "cell_type": "markdown",
      "source": [
        "# Python Streamlit"
      ],
      "metadata": {
        "id": "60N7XDvxOmwE"
      }
    },
    {
      "cell_type": "markdown",
      "source": [
        "**Example 1**\n",
        "\n",
        "Go to: https://streamlit.io/gallery?category=streamlit-templates\n",
        "\n",
        "Select: CSV Wrangler\n",
        "\n"
      ],
      "metadata": {
        "id": "H4oE6X98Qbeg"
      }
    },
    {
      "cell_type": "markdown",
      "source": [
        "**Example 2**\n",
        "\n",
        "Go to: https://streamlit.io/gallery?category=education\n",
        "\n",
        "Select: Using Monte Carlo to Estimate Pi"
      ],
      "metadata": {
        "id": "-CyCVpJ-epZ8"
      }
    },
    {
      "cell_type": "markdown",
      "source": [
        "**Example 3**\n",
        "\n",
        "Go to: https://streamlit.io/gallery?category=science-technology\n",
        "\n",
        "Select: Molecule Icon Generator"
      ],
      "metadata": {
        "id": "6ZmD15nrfGCX"
      }
    },
    {
      "cell_type": "markdown",
      "source": [
        "To learn more about how to use Streamlit, check out this cool Streamlit web app that will teach about how to use Streamlit\n",
        "\n",
        "https://30days.streamlit.app/?challenge=Day+10"
      ],
      "metadata": {
        "id": "avDDR442f3Zs"
      }
    }
  ]
}
