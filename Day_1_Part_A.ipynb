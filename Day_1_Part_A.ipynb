{
  "cells": [
    {
      "cell_type": "markdown",
      "id": "9b175ba0-4c58-46a9-8e94-a4a99ef46fa7",
      "metadata": {
        "id": "9b175ba0-4c58-46a9-8e94-a4a99ef46fa7"
      },
      "source": [
        "# Graphing a Simple Line Plot"
      ]
    },
    {
      "cell_type": "markdown",
      "id": "8a664885-f215-47d2-979a-c7534373a4c9",
      "metadata": {
        "id": "8a664885-f215-47d2-979a-c7534373a4c9"
      },
      "source": [
        "Python programmers all over the world have already built a lot of **\"libraries\"** - collections of \n",
        "pre-coded functions. To use them, you normally need to install them on your computer first and then import it into your Jupyter Notebook. (Note: Anaconda and Google Colab already has most of the commonly libraries pre-installed). "
      ]
    },
    {
      "cell_type": "code",
      "execution_count": null,
      "id": "2d88a7fe",
      "metadata": {
        "id": "2d88a7fe"
      },
      "outputs": [],
      "source": [
        "import pandas as pd"
      ]
    },
    {
      "cell_type": "markdown",
      "id": "9a84a805-69ec-4d07-bb03-4eef45dcece0",
      "metadata": {
        "id": "9a84a805-69ec-4d07-bb03-4eef45dcece0"
      },
      "source": [
        "Create a 2 dictionary columns, each with 9 data entries. \n",
        "- \"ecutwfc\" is a parameter in the plane-wave basis set used in density functional theory (DFT) calculations. It specifies the kinetic energy cutoff of the wavefunctions in the calculation, which determines the number of plane waves used to describe the electronic wavefunction in the system being studied. A higher value of ecutwfc generally results in a more accurate calculation, but also requires more computational resources. The appropriate value of ecutwfc depends on the specific system being studied and the level of accuracy desired.\n",
        "- \"Total energy (Ry)\" is the total energy of a system in a DFT calculation. It is calculated self-consistently using the Kohn-Sham equations. The calculated value depends on various parameters including ecutwfc.\n",
        "\n",
        "Similar to MATLAB, you can create a data array, in this case, a dict variable with the column labelled \"ecutwfc\" and \"total energy (Ry).\" "
      ]
    },
    {
      "cell_type": "code",
      "execution_count": null,
      "id": "a5515b79",
      "metadata": {
        "colab": {
          "base_uri": "https://localhost:8080/",
          "height": 191
        },
        "id": "a5515b79",
        "outputId": "a1ac2ab4-d726-4fbb-8883-f348cb17ef97"
      },
      "outputs": [
        {
          "output_type": "display_data",
          "data": {
            "text/plain": [
              "{'ecutwfc': [12, 14, 16, 18, 20, 22, 24, 26, 28],\n",
              " 'total energy (Ry)': [-15.72103297,\n",
              "  -15.73286882,\n",
              "  -15.73805663,\n",
              "  -15.73997748,\n",
              "  -15.74073755,\n",
              "  -15.74104964,\n",
              "  -15.74118467,\n",
              "  -15.74124723,\n",
              "  -15.74128342]}"
            ]
          },
          "metadata": {}
        }
      ],
      "source": [
        "# \n",
        "data = {\"ecutwfc\":[12, 14, 16, 18, 20, 22, 24, 26, 28], \n",
        "        \"total energy (Ry)\":[-15.72103297, -15.73286882, -15.73805663, -15.73997748, -15.74073755, -15.74104964, -15.74118467, -15.74124723, -15.74128342]}\n",
        "\n",
        "#\n",
        "display(data)"
      ]
    },
    {
      "cell_type": "markdown",
      "source": [
        "Even though the dict variable \"data\" has the information we need, we can improve the readability of the variable by creating a Pandas Dataframe from the data. \n",
        "\n",
        "Pandas is an open-source data manipulation library for Python. It provides tools for handling structured data and improve the readability by adding labels and indexes to each row and column. \n",
        "\n",
        "The most powerful feature of Pandas is its ability to load and write data, data manipulation and transformation. \n",
        "\n",
        "More information on Pandas Dataframe can be found here: https://pandas.pydata.org/docs/reference/frame.html"
      ],
      "metadata": {
        "id": "ajzJHtrncpFW"
      },
      "id": "ajzJHtrncpFW"
    },
    {
      "cell_type": "code",
      "execution_count": null,
      "id": "37facd79-2537-46e9-838e-0fb72f252fec",
      "metadata": {
        "colab": {
          "base_uri": "https://localhost:8080/",
          "height": 331
        },
        "id": "37facd79-2537-46e9-838e-0fb72f252fec",
        "outputId": "168afc8a-aca2-4965-949a-f0c6b4b2eeef"
      },
      "outputs": [
        {
          "output_type": "display_data",
          "data": {
            "text/plain": [
              "   ecutwfc  total energy (Ry)\n",
              "0       12         -15.721033\n",
              "1       14         -15.732869\n",
              "2       16         -15.738057\n",
              "3       18         -15.739977\n",
              "4       20         -15.740738\n",
              "5       22         -15.741050\n",
              "6       24         -15.741185\n",
              "7       26         -15.741247\n",
              "8       28         -15.741283"
            ],
            "text/html": [
              "\n",
              "  <div id=\"df-b6c7aee6-4d40-4868-bd40-6cc1107acf90\">\n",
              "    <div class=\"colab-df-container\">\n",
              "      <div>\n",
              "<style scoped>\n",
              "    .dataframe tbody tr th:only-of-type {\n",
              "        vertical-align: middle;\n",
              "    }\n",
              "\n",
              "    .dataframe tbody tr th {\n",
              "        vertical-align: top;\n",
              "    }\n",
              "\n",
              "    .dataframe thead th {\n",
              "        text-align: right;\n",
              "    }\n",
              "</style>\n",
              "<table border=\"1\" class=\"dataframe\">\n",
              "  <thead>\n",
              "    <tr style=\"text-align: right;\">\n",
              "      <th></th>\n",
              "      <th>ecutwfc</th>\n",
              "      <th>total energy (Ry)</th>\n",
              "    </tr>\n",
              "  </thead>\n",
              "  <tbody>\n",
              "    <tr>\n",
              "      <th>0</th>\n",
              "      <td>12</td>\n",
              "      <td>-15.721033</td>\n",
              "    </tr>\n",
              "    <tr>\n",
              "      <th>1</th>\n",
              "      <td>14</td>\n",
              "      <td>-15.732869</td>\n",
              "    </tr>\n",
              "    <tr>\n",
              "      <th>2</th>\n",
              "      <td>16</td>\n",
              "      <td>-15.738057</td>\n",
              "    </tr>\n",
              "    <tr>\n",
              "      <th>3</th>\n",
              "      <td>18</td>\n",
              "      <td>-15.739977</td>\n",
              "    </tr>\n",
              "    <tr>\n",
              "      <th>4</th>\n",
              "      <td>20</td>\n",
              "      <td>-15.740738</td>\n",
              "    </tr>\n",
              "    <tr>\n",
              "      <th>5</th>\n",
              "      <td>22</td>\n",
              "      <td>-15.741050</td>\n",
              "    </tr>\n",
              "    <tr>\n",
              "      <th>6</th>\n",
              "      <td>24</td>\n",
              "      <td>-15.741185</td>\n",
              "    </tr>\n",
              "    <tr>\n",
              "      <th>7</th>\n",
              "      <td>26</td>\n",
              "      <td>-15.741247</td>\n",
              "    </tr>\n",
              "    <tr>\n",
              "      <th>8</th>\n",
              "      <td>28</td>\n",
              "      <td>-15.741283</td>\n",
              "    </tr>\n",
              "  </tbody>\n",
              "</table>\n",
              "</div>\n",
              "      <button class=\"colab-df-convert\" onclick=\"convertToInteractive('df-b6c7aee6-4d40-4868-bd40-6cc1107acf90')\"\n",
              "              title=\"Convert this dataframe to an interactive table.\"\n",
              "              style=\"display:none;\">\n",
              "        \n",
              "  <svg xmlns=\"http://www.w3.org/2000/svg\" height=\"24px\"viewBox=\"0 0 24 24\"\n",
              "       width=\"24px\">\n",
              "    <path d=\"M0 0h24v24H0V0z\" fill=\"none\"/>\n",
              "    <path d=\"M18.56 5.44l.94 2.06.94-2.06 2.06-.94-2.06-.94-.94-2.06-.94 2.06-2.06.94zm-11 1L8.5 8.5l.94-2.06 2.06-.94-2.06-.94L8.5 2.5l-.94 2.06-2.06.94zm10 10l.94 2.06.94-2.06 2.06-.94-2.06-.94-.94-2.06-.94 2.06-2.06.94z\"/><path d=\"M17.41 7.96l-1.37-1.37c-.4-.4-.92-.59-1.43-.59-.52 0-1.04.2-1.43.59L10.3 9.45l-7.72 7.72c-.78.78-.78 2.05 0 2.83L4 21.41c.39.39.9.59 1.41.59.51 0 1.02-.2 1.41-.59l7.78-7.78 2.81-2.81c.8-.78.8-2.07 0-2.86zM5.41 20L4 18.59l7.72-7.72 1.47 1.35L5.41 20z\"/>\n",
              "  </svg>\n",
              "      </button>\n",
              "      \n",
              "  <style>\n",
              "    .colab-df-container {\n",
              "      display:flex;\n",
              "      flex-wrap:wrap;\n",
              "      gap: 12px;\n",
              "    }\n",
              "\n",
              "    .colab-df-convert {\n",
              "      background-color: #E8F0FE;\n",
              "      border: none;\n",
              "      border-radius: 50%;\n",
              "      cursor: pointer;\n",
              "      display: none;\n",
              "      fill: #1967D2;\n",
              "      height: 32px;\n",
              "      padding: 0 0 0 0;\n",
              "      width: 32px;\n",
              "    }\n",
              "\n",
              "    .colab-df-convert:hover {\n",
              "      background-color: #E2EBFA;\n",
              "      box-shadow: 0px 1px 2px rgba(60, 64, 67, 0.3), 0px 1px 3px 1px rgba(60, 64, 67, 0.15);\n",
              "      fill: #174EA6;\n",
              "    }\n",
              "\n",
              "    [theme=dark] .colab-df-convert {\n",
              "      background-color: #3B4455;\n",
              "      fill: #D2E3FC;\n",
              "    }\n",
              "\n",
              "    [theme=dark] .colab-df-convert:hover {\n",
              "      background-color: #434B5C;\n",
              "      box-shadow: 0px 1px 3px 1px rgba(0, 0, 0, 0.15);\n",
              "      filter: drop-shadow(0px 1px 2px rgba(0, 0, 0, 0.3));\n",
              "      fill: #FFFFFF;\n",
              "    }\n",
              "  </style>\n",
              "\n",
              "      <script>\n",
              "        const buttonEl =\n",
              "          document.querySelector('#df-b6c7aee6-4d40-4868-bd40-6cc1107acf90 button.colab-df-convert');\n",
              "        buttonEl.style.display =\n",
              "          google.colab.kernel.accessAllowed ? 'block' : 'none';\n",
              "\n",
              "        async function convertToInteractive(key) {\n",
              "          const element = document.querySelector('#df-b6c7aee6-4d40-4868-bd40-6cc1107acf90');\n",
              "          const dataTable =\n",
              "            await google.colab.kernel.invokeFunction('convertToInteractive',\n",
              "                                                     [key], {});\n",
              "          if (!dataTable) return;\n",
              "\n",
              "          const docLinkHtml = 'Like what you see? Visit the ' +\n",
              "            '<a target=\"_blank\" href=https://colab.research.google.com/notebooks/data_table.ipynb>data table notebook</a>'\n",
              "            + ' to learn more about interactive tables.';\n",
              "          element.innerHTML = '';\n",
              "          dataTable['output_type'] = 'display_data';\n",
              "          await google.colab.output.renderOutput(dataTable, element);\n",
              "          const docLink = document.createElement('div');\n",
              "          docLink.innerHTML = docLinkHtml;\n",
              "          element.appendChild(docLink);\n",
              "        }\n",
              "      </script>\n",
              "    </div>\n",
              "  </div>\n",
              "  "
            ]
          },
          "metadata": {}
        }
      ],
      "source": [
        "#\n",
        "Convergence = pd.DataFrame(data)\n",
        "\n",
        "#\n",
        "display(Convergence)"
      ]
    },
    {
      "cell_type": "markdown",
      "source": [
        "Similarly to MATLAB, plotting with Python is often done using the Matplotlib library. \n",
        "\n",
        "To save memory, we import a specific collection within matplotlib called pyplot that contains all we need to create a simple plot of the total energy vs. the cut off energy (ecutwfc). \n",
        "\n",
        "More information on Matplotlib pyplot can be found here: https://matplotlib.org/3.5.3/api/_as_gen/matplotlib.pyplot.html"
      ],
      "metadata": {
        "id": "ElBJYzTVfLtQ"
      },
      "id": "ElBJYzTVfLtQ"
    },
    {
      "cell_type": "code",
      "execution_count": null,
      "id": "d478da58-e51c-437e-a6d9-276619d528ca",
      "metadata": {
        "colab": {
          "base_uri": "https://localhost:8080/",
          "height": 295
        },
        "id": "d478da58-e51c-437e-a6d9-276619d528ca",
        "outputId": "f37e672c-ec6d-4d57-b7b6-01a9be018880"
      },
      "outputs": [
        {
          "output_type": "display_data",
          "data": {
            "text/plain": [
              "<Figure size 432x288 with 1 Axes>"
            ],
            "image/png": "[encoded data removed]"
          },
          "metadata": {
            "needs_background": "light"
          }
        }
      ],
      "source": [
        "import matplotlib.pyplot as plt\n",
        "\n",
        "#\n",
        "plt.plot(Convergence['ecutwfc'], Convergence['total energy (Ry)'], marker='o')\n",
        "\n",
        "#\n",
        "plt.title('Convergence Test for Cutoff Energy')\n",
        "plt.xlabel('Cutoff Energy (Ry)')\n",
        "plt.ylabel('Total Energy (Ry)')\n",
        "\n",
        "#\n",
        "plt.grid(True)\n",
        "\n",
        "#\n",
        "plt.show()"
      ]
    },
    {
      "cell_type": "markdown",
      "source": [
        "Usually, it is desire to make your plot stands out. To do this, we will recreate the above plot using Seaborn  \n",
        "\n",
        "Seaborn is a Python data visualization library based on Matplotlib with higher-level interface for creating informative and attractive statistical graphics.\n",
        "\n",
        "More information about Seaborn can be found here: https://seaborn.pydata.org/examples/index.html"
      ],
      "metadata": {
        "id": "0rATeHzditck"
      },
      "id": "0rATeHzditck"
    },
    {
      "cell_type": "code",
      "source": [
        "import seaborn as sns\n",
        "\n",
        "#\n",
        "sns.set_theme(style=\"darkgrid\")\n",
        "\n",
        "#\n",
        "sns.scatterplot(x=\"ecutwfc\", y=\"total energy (Ry)\",\n",
        "                data=Convergence, edgecolor = \"white\")\n",
        "\n",
        "#\n",
        "sns.lineplot(x=\"ecutwfc\", y=\"total energy (Ry)\",\n",
        "                data=Convergence)\n",
        "\n",
        "#\n",
        "plt.title('Convergence Test for Cutoff Energy')\n",
        "plt.xlabel('Cutoff Energy (Ry)')\n",
        "plt.ylabel('Total Energy (Ry)')"
      ],
      "metadata": {
        "colab": {
          "base_uri": "https://localhost:8080/",
          "height": 318
        },
        "id": "pNMX_FKtgAnQ",
        "outputId": "e0d2ef8f-11c8-40ad-97d9-c1e4ff2c3baf"
      },
      "id": "pNMX_FKtgAnQ",
      "execution_count": null,
      "outputs": [
        {
          "output_type": "execute_result",
          "data": {
            "text/plain": [
              "Text(0, 0.5, 'Total Energy (Ry)')"
            ]
          },
          "metadata": {},
          "execution_count": 5
        },
        {
          "output_type": "display_data",
          "data": {
            "text/plain": [
              "<Figure size 432x288 with 1 Axes>"
            ],
            "image/png": "[encoded data removed]"
          },
          "metadata": {}
        }
      ]
    },
    {
      "cell_type": "markdown",
      "source": [
        "# Import data file and simple data processing"
      ],
      "metadata": {
        "id": "63hIKl4Akq7F"
      },
      "id": "63hIKl4Akq7F"
    },
    {
      "cell_type": "markdown",
      "source": [
        "To upload a saved data file, there are many ways, one way we will show here is to use the built-in function in Numpy called loadtxt to first load our data file, and then use Pandas Dataframe to format the data and add column labels.\n",
        "\n",
        "Numpy is a Python library for scientific computing and data analysis. Because Numpy is built on C, it is very fast and memory efficient. \n",
        "\n",
        "More information about Numpy can be found here: https://numpy.org/doc/stable/reference/arrays.html#\n"
      ],
      "metadata": {
        "id": "6_qs_0QfoTix"
      },
      "id": "6_qs_0QfoTix"
    },
    {
      "cell_type": "code",
      "execution_count": null,
      "id": "0d8d176b-eef6-4c95-9d57-729b2c9db3d3",
      "metadata": {
        "colab": {
          "base_uri": "https://localhost:8080/",
          "height": 423
        },
        "id": "0d8d176b-eef6-4c95-9d57-729b2c9db3d3",
        "outputId": "e82721c3-34e0-4ee8-a330-c506065230a9"
      },
      "outputs": [
        {
          "output_type": "display_data",
          "data": {
            "text/plain": [
              "     E (eV)       dos (E)  Int dos (E)\n",
              "0      -2.0  2.242000e+01        2.242\n",
              "1      -1.9  1.015000e+01        3.256\n",
              "2      -1.8  1.768000e+00        3.433\n",
              "3      -1.7  1.163000e-01        3.445\n",
              "4      -1.6  2.792000e-03        3.445\n",
              "..      ...           ...          ...\n",
              "196    17.6  4.453000e-84      699.400\n",
              "197    17.7  4.453000e-84      699.400\n",
              "198    17.8  4.453000e-84      699.400\n",
              "199    17.9  4.453000e-84      699.400\n",
              "200    18.0  4.453000e-84      699.400\n",
              "\n",
              "[201 rows x 3 columns]"
            ],
            "text/html": [
              "\n",
              "  <div id=\"df-7923cf98-054e-4e7e-8c40-ec43c83abe33\">\n",
              "    <div class=\"colab-df-container\">\n",
              "      <div>\n",
              "<style scoped>\n",
              "    .dataframe tbody tr th:only-of-type {\n",
              "        vertical-align: middle;\n",
              "    }\n",
              "\n",
              "    .dataframe tbody tr th {\n",
              "        vertical-align: top;\n",
              "    }\n",
              "\n",
              "    .dataframe thead th {\n",
              "        text-align: right;\n",
              "    }\n",
              "</style>\n",
              "<table border=\"1\" class=\"dataframe\">\n",
              "  <thead>\n",
              "    <tr style=\"text-align: right;\">\n",
              "      <th></th>\n",
              "      <th>E (eV)</th>\n",
              "      <th>dos (E)</th>\n",
              "      <th>Int dos (E)</th>\n",
              "    </tr>\n",
              "  </thead>\n",
              "  <tbody>\n",
              "    <tr>\n",
              "      <th>0</th>\n",
              "      <td>-2.0</td>\n",
              "      <td>2.242000e+01</td>\n",
              "      <td>2.242</td>\n",
              "    </tr>\n",
              "    <tr>\n",
              "      <th>1</th>\n",
              "      <td>-1.9</td>\n",
              "      <td>1.015000e+01</td>\n",
              "      <td>3.256</td>\n",
              "    </tr>\n",
              "    <tr>\n",
              "      <th>2</th>\n",
              "      <td>-1.8</td>\n",
              "      <td>1.768000e+00</td>\n",
              "      <td>3.433</td>\n",
              "    </tr>\n",
              "    <tr>\n",
              "      <th>3</th>\n",
              "      <td>-1.7</td>\n",
              "      <td>1.163000e-01</td>\n",
              "      <td>3.445</td>\n",
              "    </tr>\n",
              "    <tr>\n",
              "      <th>4</th>\n",
              "      <td>-1.6</td>\n",
              "      <td>2.792000e-03</td>\n",
              "      <td>3.445</td>\n",
              "    </tr>\n",
              "    <tr>\n",
              "      <th>...</th>\n",
              "      <td>...</td>\n",
              "      <td>...</td>\n",
              "      <td>...</td>\n",
              "    </tr>\n",
              "    <tr>\n",
              "      <th>196</th>\n",
              "      <td>17.6</td>\n",
              "      <td>4.453000e-84</td>\n",
              "      <td>699.400</td>\n",
              "    </tr>\n",
              "    <tr>\n",
              "      <th>197</th>\n",
              "      <td>17.7</td>\n",
              "      <td>4.453000e-84</td>\n",
              "      <td>699.400</td>\n",
              "    </tr>\n",
              "    <tr>\n",
              "      <th>198</th>\n",
              "      <td>17.8</td>\n",
              "      <td>4.453000e-84</td>\n",
              "      <td>699.400</td>\n",
              "    </tr>\n",
              "    <tr>\n",
              "      <th>199</th>\n",
              "      <td>17.9</td>\n",
              "      <td>4.453000e-84</td>\n",
              "      <td>699.400</td>\n",
              "    </tr>\n",
              "    <tr>\n",
              "      <th>200</th>\n",
              "      <td>18.0</td>\n",
              "      <td>4.453000e-84</td>\n",
              "      <td>699.400</td>\n",
              "    </tr>\n",
              "  </tbody>\n",
              "</table>\n",
              "<p>201 rows × 3 columns</p>\n",
              "</div>\n",
              "      <button class=\"colab-df-convert\" onclick=\"convertToInteractive('df-7923cf98-054e-4e7e-8c40-ec43c83abe33')\"\n",
              "              title=\"Convert this dataframe to an interactive table.\"\n",
              "              style=\"display:none;\">\n",
              "        \n",
              "  <svg xmlns=\"http://www.w3.org/2000/svg\" height=\"24px\"viewBox=\"0 0 24 24\"\n",
              "       width=\"24px\">\n",
              "    <path d=\"M0 0h24v24H0V0z\" fill=\"none\"/>\n",
              "    <path d=\"M18.56 5.44l.94 2.06.94-2.06 2.06-.94-2.06-.94-.94-2.06-.94 2.06-2.06.94zm-11 1L8.5 8.5l.94-2.06 2.06-.94-2.06-.94L8.5 2.5l-.94 2.06-2.06.94zm10 10l.94 2.06.94-2.06 2.06-.94-2.06-.94-.94-2.06-.94 2.06-2.06.94z\"/><path d=\"M17.41 7.96l-1.37-1.37c-.4-.4-.92-.59-1.43-.59-.52 0-1.04.2-1.43.59L10.3 9.45l-7.72 7.72c-.78.78-.78 2.05 0 2.83L4 21.41c.39.39.9.59 1.41.59.51 0 1.02-.2 1.41-.59l7.78-7.78 2.81-2.81c.8-.78.8-2.07 0-2.86zM5.41 20L4 18.59l7.72-7.72 1.47 1.35L5.41 20z\"/>\n",
              "  </svg>\n",
              "      </button>\n",
              "      \n",
              "  <style>\n",
              "    .colab-df-container {\n",
              "      display:flex;\n",
              "      flex-wrap:wrap;\n",
              "      gap: 12px;\n",
              "    }\n",
              "\n",
              "    .colab-df-convert {\n",
              "      background-color: #E8F0FE;\n",
              "      border: none;\n",
              "      border-radius: 50%;\n",
              "      cursor: pointer;\n",
              "      display: none;\n",
              "      fill: #1967D2;\n",
              "      height: 32px;\n",
              "      padding: 0 0 0 0;\n",
              "      width: 32px;\n",
              "    }\n",
              "\n",
              "    .colab-df-convert:hover {\n",
              "      background-color: #E2EBFA;\n",
              "      box-shadow: 0px 1px 2px rgba(60, 64, 67, 0.3), 0px 1px 3px 1px rgba(60, 64, 67, 0.15);\n",
              "      fill: #174EA6;\n",
              "    }\n",
              "\n",
              "    [theme=dark] .colab-df-convert {\n",
              "      background-color: #3B4455;\n",
              "      fill: #D2E3FC;\n",
              "    }\n",
              "\n",
              "    [theme=dark] .colab-df-convert:hover {\n",
              "      background-color: #434B5C;\n",
              "      box-shadow: 0px 1px 3px 1px rgba(0, 0, 0, 0.15);\n",
              "      filter: drop-shadow(0px 1px 2px rgba(0, 0, 0, 0.3));\n",
              "      fill: #FFFFFF;\n",
              "    }\n",
              "  </style>\n",
              "\n",
              "      <script>\n",
              "        const buttonEl =\n",
              "          document.querySelector('#df-7923cf98-054e-4e7e-8c40-ec43c83abe33 button.colab-df-convert');\n",
              "        buttonEl.style.display =\n",
              "          google.colab.kernel.accessAllowed ? 'block' : 'none';\n",
              "\n",
              "        async function convertToInteractive(key) {\n",
              "          const element = document.querySelector('#df-7923cf98-054e-4e7e-8c40-ec43c83abe33');\n",
              "          const dataTable =\n",
              "            await google.colab.kernel.invokeFunction('convertToInteractive',\n",
              "                                                     [key], {});\n",
              "          if (!dataTable) return;\n",
              "\n",
              "          const docLinkHtml = 'Like what you see? Visit the ' +\n",
              "            '<a target=\"_blank\" href=https://colab.research.google.com/notebooks/data_table.ipynb>data table notebook</a>'\n",
              "            + ' to learn more about interactive tables.';\n",
              "          element.innerHTML = '';\n",
              "          dataTable['output_type'] = 'display_data';\n",
              "          await google.colab.output.renderOutput(dataTable, element);\n",
              "          const docLink = document.createElement('div');\n",
              "          docLink.innerHTML = docLinkHtml;\n",
              "          element.appendChild(docLink);\n",
              "        }\n",
              "      </script>\n",
              "    </div>\n",
              "  </div>\n",
              "  "
            ]
          },
          "metadata": {}
        }
      ],
      "source": [
        "import numpy as np\n",
        "\n",
        "#\n",
        "PTypeZnO_df = pd.DataFrame(np.loadtxt('RbZn2O_dos.dat' ), columns=['E (eV)','dos (E)', 'Int dos (E)'])\n",
        "\n",
        "#\n",
        "display(PTypeZnO_df)"
      ]
    },
    {
      "cell_type": "markdown",
      "source": [
        "You can use np.mean and np.std to find the mean and the standard deviation of the 'E (eV)' data column"
      ],
      "metadata": {
        "id": "t-lyvQeWqoB1"
      },
      "id": "t-lyvQeWqoB1"
    },
    {
      "cell_type": "code",
      "source": [
        "#\n",
        "mean_E = np.mean(PTypeZnO_df['E (eV)'])\n",
        "\n",
        "#\n",
        "std_E = np.std(PTypeZnO_df['E (eV)'])\n",
        "\n",
        "#\n",
        "print('mean of E (eV) = ', mean_E)\n",
        "print('standard deviation of E (eV) = ', std_E)"
      ],
      "metadata": {
        "colab": {
          "base_uri": "https://localhost:8080/"
        },
        "id": "fAypFX1PpV0k",
        "outputId": "811879e0-e341-4bcd-fac2-dde78f1f8267"
      },
      "id": "fAypFX1PpV0k",
      "execution_count": null,
      "outputs": [
        {
          "output_type": "stream",
          "name": "stdout",
          "text": [
            "mean of E (eV) =  8.0\n",
            "standard deviation of E (eV) =  5.802298395176403\n"
          ]
        }
      ]
    },
    {
      "cell_type": "markdown",
      "source": [
        "Create a new dataframe and normalize the column 'E (eV)' by subtracting each values by the mean and dividing it by the standard deviation. The new data is saved as a new column called 'norm E (eV)' \n",
        "\n",
        "\n",
        "![image.png](data:image/png;base64,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)"
      ],
      "metadata": {
        "id": "Aqwj6sj_tk4u"
      },
      "id": "Aqwj6sj_tk4u"
    },
    {
      "cell_type": "code",
      "execution_count": null,
      "id": "3279f131-dcbc-45eb-9ea0-985095bcf673",
      "metadata": {
        "id": "3279f131-dcbc-45eb-9ea0-985095bcf673",
        "outputId": "e97c64ee-8f19-4b5d-d075-bff4947cad49",
        "colab": {
          "base_uri": "https://localhost:8080/",
          "height": 423
        }
      },
      "outputs": [
        {
          "output_type": "display_data",
          "data": {
            "text/plain": [
              "     E (eV)       dos (E)  Int dos (E)  norm E (eV)\n",
              "0      -2.0  2.242000e+01        2.242    -1.723455\n",
              "1      -1.9  1.015000e+01        3.256    -1.706220\n",
              "2      -1.8  1.768000e+00        3.433    -1.688986\n",
              "3      -1.7  1.163000e-01        3.445    -1.671751\n",
              "4      -1.6  2.792000e-03        3.445    -1.654517\n",
              "..      ...           ...          ...          ...\n",
              "196    17.6  4.453000e-84      699.400     1.654517\n",
              "197    17.7  4.453000e-84      699.400     1.671751\n",
              "198    17.8  4.453000e-84      699.400     1.688986\n",
              "199    17.9  4.453000e-84      699.400     1.706220\n",
              "200    18.0  4.453000e-84      699.400     1.723455\n",
              "\n",
              "[201 rows x 4 columns]"
            ],
            "text/html": [
              "\n",
              "  <div id=\"df-7e069136-b0dc-4eab-8344-8558ad706de5\">\n",
              "    <div class=\"colab-df-container\">\n",
              "      <div>\n",
              "<style scoped>\n",
              "    .dataframe tbody tr th:only-of-type {\n",
              "        vertical-align: middle;\n",
              "    }\n",
              "\n",
              "    .dataframe tbody tr th {\n",
              "        vertical-align: top;\n",
              "    }\n",
              "\n",
              "    .dataframe thead th {\n",
              "        text-align: right;\n",
              "    }\n",
              "</style>\n",
              "<table border=\"1\" class=\"dataframe\">\n",
              "  <thead>\n",
              "    <tr style=\"text-align: right;\">\n",
              "      <th></th>\n",
              "      <th>E (eV)</th>\n",
              "      <th>dos (E)</th>\n",
              "      <th>Int dos (E)</th>\n",
              "      <th>norm E (eV)</th>\n",
              "    </tr>\n",
              "  </thead>\n",
              "  <tbody>\n",
              "    <tr>\n",
              "      <th>0</th>\n",
              "      <td>-2.0</td>\n",
              "      <td>2.242000e+01</td>\n",
              "      <td>2.242</td>\n",
              "      <td>-1.723455</td>\n",
              "    </tr>\n",
              "    <tr>\n",
              "      <th>1</th>\n",
              "      <td>-1.9</td>\n",
              "      <td>1.015000e+01</td>\n",
              "      <td>3.256</td>\n",
              "      <td>-1.706220</td>\n",
              "    </tr>\n",
              "    <tr>\n",
              "      <th>2</th>\n",
              "      <td>-1.8</td>\n",
              "      <td>1.768000e+00</td>\n",
              "      <td>3.433</td>\n",
              "      <td>-1.688986</td>\n",
              "    </tr>\n",
              "    <tr>\n",
              "      <th>3</th>\n",
              "      <td>-1.7</td>\n",
              "      <td>1.163000e-01</td>\n",
              "      <td>3.445</td>\n",
              "      <td>-1.671751</td>\n",
              "    </tr>\n",
              "    <tr>\n",
              "      <th>4</th>\n",
              "      <td>-1.6</td>\n",
              "      <td>2.792000e-03</td>\n",
              "      <td>3.445</td>\n",
              "      <td>-1.654517</td>\n",
              "    </tr>\n",
              "    <tr>\n",
              "      <th>...</th>\n",
              "      <td>...</td>\n",
              "      <td>...</td>\n",
              "      <td>...</td>\n",
              "      <td>...</td>\n",
              "    </tr>\n",
              "    <tr>\n",
              "      <th>196</th>\n",
              "      <td>17.6</td>\n",
              "      <td>4.453000e-84</td>\n",
              "      <td>699.400</td>\n",
              "      <td>1.654517</td>\n",
              "    </tr>\n",
              "    <tr>\n",
              "      <th>197</th>\n",
              "      <td>17.7</td>\n",
              "      <td>4.453000e-84</td>\n",
              "      <td>699.400</td>\n",
              "      <td>1.671751</td>\n",
              "    </tr>\n",
              "    <tr>\n",
              "      <th>198</th>\n",
              "      <td>17.8</td>\n",
              "      <td>4.453000e-84</td>\n",
              "      <td>699.400</td>\n",
              "      <td>1.688986</td>\n",
              "    </tr>\n",
              "    <tr>\n",
              "      <th>199</th>\n",
              "      <td>17.9</td>\n",
              "      <td>4.453000e-84</td>\n",
              "      <td>699.400</td>\n",
              "      <td>1.706220</td>\n",
              "    </tr>\n",
              "    <tr>\n",
              "      <th>200</th>\n",
              "      <td>18.0</td>\n",
              "      <td>4.453000e-84</td>\n",
              "      <td>699.400</td>\n",
              "      <td>1.723455</td>\n",
              "    </tr>\n",
              "  </tbody>\n",
              "</table>\n",
              "<p>201 rows × 4 columns</p>\n",
              "</div>\n",
              "      <button class=\"colab-df-convert\" onclick=\"convertToInteractive('df-7e069136-b0dc-4eab-8344-8558ad706de5')\"\n",
              "              title=\"Convert this dataframe to an interactive table.\"\n",
              "              style=\"display:none;\">\n",
              "        \n",
              "  <svg xmlns=\"http://www.w3.org/2000/svg\" height=\"24px\"viewBox=\"0 0 24 24\"\n",
              "       width=\"24px\">\n",
              "    <path d=\"M0 0h24v24H0V0z\" fill=\"none\"/>\n",
              "    <path d=\"M18.56 5.44l.94 2.06.94-2.06 2.06-.94-2.06-.94-.94-2.06-.94 2.06-2.06.94zm-11 1L8.5 8.5l.94-2.06 2.06-.94-2.06-.94L8.5 2.5l-.94 2.06-2.06.94zm10 10l.94 2.06.94-2.06 2.06-.94-2.06-.94-.94-2.06-.94 2.06-2.06.94z\"/><path d=\"M17.41 7.96l-1.37-1.37c-.4-.4-.92-.59-1.43-.59-.52 0-1.04.2-1.43.59L10.3 9.45l-7.72 7.72c-.78.78-.78 2.05 0 2.83L4 21.41c.39.39.9.59 1.41.59.51 0 1.02-.2 1.41-.59l7.78-7.78 2.81-2.81c.8-.78.8-2.07 0-2.86zM5.41 20L4 18.59l7.72-7.72 1.47 1.35L5.41 20z\"/>\n",
              "  </svg>\n",
              "      </button>\n",
              "      \n",
              "  <style>\n",
              "    .colab-df-container {\n",
              "      display:flex;\n",
              "      flex-wrap:wrap;\n",
              "      gap: 12px;\n",
              "    }\n",
              "\n",
              "    .colab-df-convert {\n",
              "      background-color: #E8F0FE;\n",
              "      border: none;\n",
              "      border-radius: 50%;\n",
              "      cursor: pointer;\n",
              "      display: none;\n",
              "      fill: #1967D2;\n",
              "      height: 32px;\n",
              "      padding: 0 0 0 0;\n",
              "      width: 32px;\n",
              "    }\n",
              "\n",
              "    .colab-df-convert:hover {\n",
              "      background-color: #E2EBFA;\n",
              "      box-shadow: 0px 1px 2px rgba(60, 64, 67, 0.3), 0px 1px 3px 1px rgba(60, 64, 67, 0.15);\n",
              "      fill: #174EA6;\n",
              "    }\n",
              "\n",
              "    [theme=dark] .colab-df-convert {\n",
              "      background-color: #3B4455;\n",
              "      fill: #D2E3FC;\n",
              "    }\n",
              "\n",
              "    [theme=dark] .colab-df-convert:hover {\n",
              "      background-color: #434B5C;\n",
              "      box-shadow: 0px 1px 3px 1px rgba(0, 0, 0, 0.15);\n",
              "      filter: drop-shadow(0px 1px 2px rgba(0, 0, 0, 0.3));\n",
              "      fill: #FFFFFF;\n",
              "    }\n",
              "  </style>\n",
              "\n",
              "      <script>\n",
              "        const buttonEl =\n",
              "          document.querySelector('#df-7e069136-b0dc-4eab-8344-8558ad706de5 button.colab-df-convert');\n",
              "        buttonEl.style.display =\n",
              "          google.colab.kernel.accessAllowed ? 'block' : 'none';\n",
              "\n",
              "        async function convertToInteractive(key) {\n",
              "          const element = document.querySelector('#df-7e069136-b0dc-4eab-8344-8558ad706de5');\n",
              "          const dataTable =\n",
              "            await google.colab.kernel.invokeFunction('convertToInteractive',\n",
              "                                                     [key], {});\n",
              "          if (!dataTable) return;\n",
              "\n",
              "          const docLinkHtml = 'Like what you see? Visit the ' +\n",
              "            '<a target=\"_blank\" href=https://colab.research.google.com/notebooks/data_table.ipynb>data table notebook</a>'\n",
              "            + ' to learn more about interactive tables.';\n",
              "          element.innerHTML = '';\n",
              "          dataTable['output_type'] = 'display_data';\n",
              "          await google.colab.output.renderOutput(dataTable, element);\n",
              "          const docLink = document.createElement('div');\n",
              "          docLink.innerHTML = docLinkHtml;\n",
              "          element.appendChild(docLink);\n",
              "        }\n",
              "      </script>\n",
              "    </div>\n",
              "  </div>\n",
              "  "
            ]
          },
          "metadata": {}
        }
      ],
      "source": [
        "# \n",
        "df_PType_scaled = PTypeZnO_df.copy()\n",
        "  \n",
        "# \n",
        "df_PType_scaled['norm E (eV)'] = (df_PType_scaled['E (eV)'] - mean_E) / std_E\n",
        "  \n",
        "#\n",
        "display(df_PType_scaled)"
      ]
    },
    {
      "cell_type": "markdown",
      "source": [
        "# Practice"
      ],
      "metadata": {
        "id": "USE0xMjxv933"
      },
      "id": "USE0xMjxv933"
    },
    {
      "cell_type": "markdown",
      "source": [
        "- In 10 minutes, fill in the comment sign \"_#_\" yourself on what each line or each section does."
      ],
      "metadata": {
        "id": "26-a8C3IKNwF"
      },
      "id": "26-a8C3IKNwF"
    },
    {
      "cell_type": "code",
      "execution_count": null,
      "id": "17a28cd4-2bf0-41dc-b1e2-af6dcb66db46",
      "metadata": {
        "id": "17a28cd4-2bf0-41dc-b1e2-af6dcb66db46",
        "outputId": "d6680eb3-aa1b-47bb-aa59-59ff78f8a84b",
        "colab": {
          "base_uri": "https://localhost:8080/"
        }
      },
      "outputs": [
        {
          "output_type": "execute_result",
          "data": {
            "text/plain": [
              "Text(10.5, 195, '$\\\\mu=8.00$ eV\\n$\\\\sigma=5.80$ eV')"
            ]
          },
          "metadata": {},
          "execution_count": 9
        },
        {
          "output_type": "display_data",
          "data": {
            "text/plain": [
              "<Figure size 1008x432 with 2 Axes>"
            ],
            "image/png": "[encoded data removed]"
          },
          "metadata": {}
        }
      ],
      "source": [
        "#\n",
        "fig, axes = plt.subplots(1, 2, sharey=False, figsize=(14,6))\n",
        "\n",
        "#\n",
        "sns.set_theme(style=\"darkgrid\")\n",
        "\n",
        "#\n",
        "axes[0].set_title(\"Normalized Distribution of Rb Doped ZnO2 DOS\")\n",
        "axes[0].set_xlabel(\"Norm E (eV)\")\n",
        "axes[0].set_ylabel(\"DOS (E)\")\n",
        "\n",
        "#\n",
        "axes[0].vlines(x=0, ymin=0, ymax=350, colors='purple', ls='--', lw=2, label='Fermi Level = 0 eV', )\n",
        "\n",
        "#\n",
        "sns.lineplot(data = df_PType_scaled, x='norm E (eV)', y = 'dos (E)', color='blue', label='RbZn2O', ax = axes[0])\n",
        "\n",
        "#\n",
        "axes[0].legend(loc='upper right')\n",
        "\n",
        "#\n",
        "axes[1].set_title(\"Distribution of Rb Doped ZnO2 DOS\")\n",
        "axes[1].set_xlabel(\"E (eV)\")\n",
        "axes[1].set_ylabel(\"DOS (E)\")\n",
        "\n",
        "#\n",
        "axes[1].vlines(x=0, ymin=0, ymax=350, colors='purple', ls='--', lw=2, label='Fermi Level = 0 eV', )\n",
        "\n",
        "#\n",
        "sns.lineplot(data = df_PType_scaled, x='E (eV)', y = 'dos (E)', color='blue', label='RbZn2O', ax = axes[1])\n",
        "\n",
        "#\n",
        "axes[1].legend(loc='upper right')\n",
        "\n",
        "#\n",
        "mu = mean_E\n",
        "sigma = std_E\n",
        "\n",
        "#\n",
        "textstr = '\\n'.join((r'$\\mu=%.2f$ eV' % (mu, ), r'$\\sigma=%.2f$ eV' % (sigma, )))\n",
        "axes[0].text(0.5, 195, textstr, fontsize=14, verticalalignment='top')\n",
        "axes[1].text(10.5, 195, textstr, fontsize=14, verticalalignment='top')"
      ]
    }
  ],
  "metadata": {
    "kernelspec": {
      "display_name": "Python 3",
      "language": "python",
      "name": "python3"
    },
    "language_info": {
      "codemirror_mode": {
        "name": "ipython",
        "version": 3
      },
      "file_extension": ".py",
      "mimetype": "text/x-python",
      "name": "python",
      "nbconvert_exporter": "python",
      "pygments_lexer": "ipython3",
      "version": "3.8.8"
    },
    "colab": {
      "provenance": []
    }
  },
  "nbformat": 4,
  "nbformat_minor": 5
}